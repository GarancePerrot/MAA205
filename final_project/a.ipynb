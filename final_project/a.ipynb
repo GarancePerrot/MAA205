{
 "cells": [
  {
   "cell_type": "markdown",
   "metadata": {},
   "source": [
    "<img src='./figures/logo-ecole-polytechnique-ve.jpg' style='position:absolute; top:0; right:0;' width='100px' height='' alt='' />\n",
    "\n",
    "<center>**Bachelor of Ecole Polytechnique**</center>\n",
    "<center>Computational Mathematics, year 2, semester 1</center>\n",
    "<center>Lecturer: Lucas Gerin <a href=\"mailto:lucas.gerin@polytechnique.edu\">(send mail)</a></center>\n",
    "\n",
    "\n",
    "# Project: Catalan numbers\n",
    "\n"
   ]
  },
  {
   "cell_type": "markdown",
   "metadata": {},
   "source": [
    "## Table of contents\n",
    "\n",
    "- [1. Computing Catalan numbers](#Computing)\n",
    "- [2. Catalan and generating functions](#CatalanGF)\n",
    "- [3. Dealing with large Catalan numbers](#Bostan)\n",
    "  * [Catalan and modulos: the Bostan Conjecture](#Bostan)\n",
    "  * [Length of Catalan numbers](#Asymptotics)\n",
    "- [4. Combinatorial interpretations of Catalan numbers](#Combinatorial)\n",
    "  * [Paths in a triangle](#Triangle)\n",
    "  * [Well-formed parentheses expressions](#Parentheses)\n",
    "  * [Binary trees](#Trees)\n"
   ]
  },
  {
   "cell_type": "code",
   "execution_count": 1,
   "metadata": {},
   "outputs": [
    {
     "data": {
      "text/html": [
       "<link href='http://fonts.googleapis.com/css?family=Fenix' rel='stylesheet' type='text/css'>\n",
       "<link href='http://fonts.googleapis.com/css?family=Alegreya+Sans:100,300,400,500,700,800,900,100italic,300italic,400italic,500italic,700italic,800italic,900italic' rel='stylesheet' type='text/css'>\n",
       "<link href='http://fonts.googleapis.com/css?family=Source+Code+Pro:300,400' rel='stylesheet' type='text/css'>\n",
       "<link href=\"https://fonts.googleapis.com/css?family=Oswald|Raleway\" rel=\"stylesheet\" type='text/css'> \n",
       "<style>\n",
       ".prompt{\n",
       "    display: none !important;\n",
       "}\n",
       "\n",
       ".rendered_html pre {\n",
       "    border: 1px solid #f0f6f9 !important;\n",
       "}\n",
       "\n",
       ".rendered_html pre, .rendered_html code {\n",
       "    background-color: #d3d8db !important;\n",
       "    padding: 1% !important;\n",
       "    line-height: 200% !important;\n",
       "    border-radius: 10px !important;\n",
       "}\n",
       "\n",
       "div.input_area {\n",
       "    border-radius: 10px !important;\n",
       "    background-color: #e1e1e6 !important;\n",
       "}\n",
       "\n",
       "div.cell{\n",
       "        width:85% !important;\n",
       "        margin-left:5% !important;\n",
       "        /*margin-right:auto;*/\n",
       "    }\n",
       "    h1, h2, h3, h4, h5 {\n",
       "        font-family: 'Oswald', sans-serif; !important;\n",
       "        font-style: oblique !important;\n",
       "    }\n",
       "    div.text_cell_render{\n",
       "        font-family: 'Raleway', sans-serif; !important;\n",
       "        line-height: 135% !important;\n",
       "        font-size: 120% !important;\n",
       "        width:100%;/*600px;*/\n",
       "        /*margin-left:auto;*/\n",
       "        /*margin-right:auto;*/\n",
       "    }\n",
       "    .CodeMirror{\n",
       "            font-family: \"Source Code Pro\" !important;\n",
       "\t\t\tfont-size: 100% !important;\n",
       "    }\n",
       "    .text_cell_render p{\n",
       "        text-align: justify !important;\n",
       "    }\n",
       "    .text_cell_render h1 {\n",
       "        font-weight: 200 !important;\n",
       "\t\tline-height: 100% !important;\n",
       "        color:#47597A !important;\n",
       "        margin-bottom: 10.em !important;\n",
       "        margin-top: 50.em !important;\n",
       "        padding-bottom: 50.em !important;\n",
       "        padding-top: 50.em !important;\n",
       "        display: block !important;\n",
       "        font-size: 300% !important;\n",
       "        text-align: center !important;\n",
       "        border-bottom: 1px solid #47597A !important;\n",
       "        border-top: 1px solid #47597A !important;\n",
       "    }\n",
       "    .text_cell_render h2 {\n",
       "        font-weight: 200 !important;\n",
       "\tline-height: 100% !important;\n",
       "        color:#47597A !important;\n",
       "        margin-bottom: 0.5em !important;\n",
       "        margin-top: 0.5em !important;\n",
       "        display: block !important;\n",
       "        font-size: 200% !important;\n",
       "        border-bottom: 1px solid #47597A !important;\n",
       "    }\n",
       "    .text_cell_render h3 {\n",
       "        font-weight: 200 !important;\n",
       "\tline-height: 100% !important;\n",
       "        color:#47597A !important;\n",
       "        margin-bottom: 0.5em !important;\n",
       "        margin-top: 0.5em !important;\n",
       "        display: block !important;\n",
       "        font-size: 150% !important;\n",
       "    }\n",
       "    .text_cell_render h4 {\n",
       "        font-style: italic !important;\n",
       "        font-weight: bold !important;\n",
       "\tline-height: 100% !important;\n",
       "        color:#47597A !important;\n",
       "        display: block !important;\n",
       "        font-size: 100% !important;\n",
       "    }\n",
       "    .text_cell_render h5 {\n",
       "        font-weight: 200 !important;\n",
       "\tline-height: 100% !important;\n",
       "        color:#47597A !important;\n",
       "        margin-bottom: 0.5em !important;\n",
       "        margin-top: 0.5em !important;\n",
       "        display: block !important;\n",
       "        font-size: 100% !important;\n",
       "    }\n",
       "    .text_cell_render ul {\n",
       "\tlist-style-type: disc !important;\n",
       "\tline-height: 2;\n",
       "\t/*color:#47597A !important;*/\n",
       "    }\n",
       "    .warning{\n",
       "        color: rgb( 240, 20, 20 ) !important;\n",
       "        }\n",
       "    .Abstract {  \n",
       "\ttext-align: justify;\n",
       "\tbackground-color: #d6edf9;\n",
       "\tborder-left: 5px solid #47597A;\n",
       "\tpadding: 0.5em;\n",
       "\tmargin: 0  150px 0 150px;\n",
       "    }\n",
       "    .Def {    \n",
       "\tbackground-color: #d9f7d7;\n",
       "\tborder-left: 5px solid #4a7047;\n",
       "\tpadding: 0.5em;\n",
       "    }\n",
       "    .Def:before {\n",
       "\tcontent: \"Definition.\";\n",
       "\tcolor:#4a7047;\n",
       "\tfont-weight: bold;\n",
       "\tfont-style: normal;\n",
       "    }\n",
       "    .DoIt {    \n",
       "\tbackground-color: #A9F5BC;\n",
       "\tborder-left: 5px solid #0A2A12;\n",
       "\tpadding: 0.5em;\n",
       "    }\n",
       "    .DoIt:before {\n",
       "\tcontent: \"Suggestion.\";\n",
       "\tcolor:#0A2A12;\n",
       "\tfont-weight: bold;\n",
       "\tfont-style: normal;\n",
       "    }\n",
       "    .Answers {    \n",
       "\tbackground-color: #DDA0DD;\n",
       "\tborder-left: 5px solid #9932CC;\n",
       "\tpadding: 0.5em;\n",
       "    }\n",
       "    .Answers:before {\n",
       "\tcontent: \"Answers.\";\n",
       "\tcolor:#682145;\n",
       "\tfont-weight: bold;\n",
       "\tfont-style: normal;\n",
       "    }\n",
       "    .Prop {    \n",
       "\tbackground-color:#f9ecd1;\n",
       "\tborder-left: 5px solid #ba7021;\n",
       "\tpadding: 0.5em;\n",
       "    }\n",
       "   .Prop:before {\n",
       "       content: \"Further questions.\";\n",
       "       color:#ba7021;\n",
       "       font-weight: bold;\n",
       "       font-style: normal;\n",
       "    }\n",
       "   .Thm {    \n",
       "\tbackground-color:#f9ecd1;\n",
       "\tborder-left: 5px solid #ba7021;\n",
       "\tpadding: 0.5em;\n",
       "    }\n",
       "   .Thm:before {\n",
       "       content: \"Theorem.\";\n",
       "       color:#ba7021;\n",
       "       font-weight: bold;\n",
       "       font-style: normal;\n",
       "    } \n",
       "   .Algo {    \n",
       "\tbackground-color:#f9ecd1;\n",
       "\tborder-left: 5px solid #ba7021;\n",
       "\tpadding: 0.5em;\n",
       "    }\n",
       "   .Algo:before {\n",
       "       content: \"Algorithm.\";\n",
       "       color:#ba7021;\n",
       "       font-weight: bold;\n",
       "       font-style: normal;\n",
       "    }\n",
       "    .Rmk {    \n",
       "\tbackground-color: #dbf1fc;\n",
       "\tborder-left: 5px solid #385487;\n",
       "\tpadding: 0.5em;\n",
       "    }\n",
       "    .Rmk:before {\n",
       "\tcontent: \"Remark.\";\n",
       "\tcolor:#385487;\n",
       "\tfont-weight: bold;\n",
       "\tfont-style: normal;\n",
       "    }\n",
       "    .Ex {    \n",
       "\tbackground-color: #dbf1fc;\n",
       "\tborder-left: 5px solid #385487;\n",
       "\tpadding: 0.5em;\n",
       "    }\n",
       "    .Ex:before {\n",
       "\tcontent: \"Example.\";\n",
       "\tcolor:#385487;\n",
       "\tfont-weight: bold;\n",
       "\tfont-style: normal;\n",
       "    }\n",
       "\n",
       "/*    .toc-item-num {\n",
       "#        display: none;\n",
       "#    }\n",
       "*/\n",
       "    .reveal section img{\n",
       "        margin: 0px auto;\n",
       "    }\n",
       "\n",
       "    div.output_area img{\n",
       "        display: block;\n",
       "        margin: 0px auto;\n",
       "    }\n",
       "  \n",
       "</style>\n",
       "\n",
       "<script>\n",
       "MathJax.Hub.Config({\n",
       "TeX: {extensions: [\"AMSmath.js\"] },\n",
       "                tex2jax: {\n",
       "                    inlineMath: [ ['$','$'], [\"\\\\(\",\"\\\\)\"] ],\n",
       "                    displayMath: [ ['$$','$$'], [\"\\\\[\",\"\\\\]\"] ]\n",
       "                },\n",
       "                displayAlign: 'center', // Change this to 'center' to center equations.\n",
       "                \"HTML-CSS\": {\n",
       "                    styles: {'.MathJax_Display': {\"margin\": 4}}\n",
       "                }\n",
       "        });\n",
       "\n",
       "\n",
       "\n",
       "</script>\n"
      ],
      "text/plain": [
       "<IPython.core.display.HTML object>"
      ]
     },
     "execution_count": 1,
     "metadata": {},
     "output_type": "execute_result"
    }
   ],
   "source": [
    "# execute this part to modify the css style\n",
    "from IPython.core.display import HTML\n",
    "def css_styling():\n",
    "    styles = open(\"./style/customProject.css\").read()\n",
    "    return HTML(styles)\n",
    "css_styling()\n"
   ]
  },
  {
   "cell_type": "code",
   "execution_count": 2,
   "metadata": {},
   "outputs": [],
   "source": [
    "## loading python libraries\n",
    "\n",
    "# necessary to display plots inline:\n",
    "%matplotlib inline   \n",
    "\n",
    "# load the libraries\n",
    "import matplotlib.pyplot as plt # 2D plotting library\n",
    "import numpy as np              # package for scientific computing  \n",
    "from pylab import *\n",
    "\n",
    "from math import *              # package for mathematics (pi, arctan, sqrt, factorial ...)\n",
    "import sympy as sympy             # package for symbolic computation\n",
    "from sympy import *\n"
   ]
  },
  {
   "cell_type": "markdown",
   "metadata": {},
   "source": [
    "# Please read!\n",
    "\n",
    "<br><br>\n",
    "\n",
    "<!--<div markdown=1 class=Abstract>-->\n",
    "\n",
    "## General instructions:\n",
    "\n",
    "3 Sessions:  Tuesday 3rd, Tuesday 10th, Thursday 19th.\n",
    "\n",
    "### Organization:\n",
    "\n",
    "* The project is individual.\n",
    "* The deadline is Thursday 19th at 5:35pm (no late submissions).\n",
    "* You must submit your .pynb file (and possibly a few figures in jpg or pdf if needed).\n",
    "\n",
    "### Guidelines:\n",
    "\n",
    "* The project is made of suggestions of mathematical and computational developments. Of course you don't have to solve everything to get a high grade.\n",
    "* The coherence of your project will be evaluated. It is better to treat parts of the notebook carefully than to try to collect points everywhere.\n",
    "* You can also suggest and solve your own questions, creativity will be rewarded.\n",
    "* Questions are more or less difficult. If you are stuck, you can skip a question or try to solve a simpler case.\n",
    "* Your codes must be commented. Explain what they do and why they work: every code cell in your notebook must be preceded or followed by a cell \"Answers\" which explains your results and methods.\n",
    "* Mathematical explanations are to be given in plain text, not as comments of the code. \n",
    "* Print tests of all your functions.\n",
    "* Your mathematical statements must be justified as well as possible."
   ]
  },
  {
   "cell_type": "markdown",
   "metadata": {},
   "source": [
    "Here are two cells that you can copy/paste throughout the Notebook:"
   ]
  },
  {
   "cell_type": "markdown",
   "metadata": {},
   "source": [
    "<div markdown=1 class=\"Answers\"> \n",
    "<i>Your answer.</i>"
   ]
  },
  {
   "cell_type": "markdown",
   "metadata": {},
   "source": [
    "<div markdown=1 class=\"Prop\"> \n",
    "<i>In this cell you can add your own additional questions (math or python).</i>"
   ]
  },
  {
   "cell_type": "markdown",
   "metadata": {},
   "source": [
    "<a id=\"Computing\"></a>\n",
    "# 1. Computing Catalan numbers"
   ]
  },
  {
   "cell_type": "markdown",
   "metadata": {},
   "source": [
    "The <a href=\"https://en.wikipedia.org/wiki/Catalan_number\">Catalan numbers</a> $c_0,c_1,c_2,\\dots$ are defined recursively as follows:\n",
    "\\begin{align*}\n",
    "c_0&=1\\\\\n",
    "c_1&=1\\\\\n",
    "c_n&=\\sum_{k=0}^{n-1} c_kc_{n-1-k}=c_0c_{n-1}+c_1c_{n-2}+\\dots +c_{n-1}c_0 \\qquad (\\text{ for }n\\geq 2). \\tag{$\\star$}\n",
    "\\end{align*}\n",
    "For example,\n",
    "\\begin{align*}\n",
    "c_2&=c_0c_1+c_1c_0=1\\times 1+1\\times 1=2,\\\\\n",
    "c_3&=c_0c_2+c_1c_1+c_2c_0=1\\times 2+1\\times 1+2\\times 1=5,\\\\\n",
    "\\dots\n",
    "\\end{align*}\n"
   ]
  },
  {
   "cell_type": "markdown",
   "metadata": {},
   "source": [
    "<div markdown=1 class=\"DoIt\"> \n",
    "\n",
    "1. Write a recursive function `CatalanRecursive(n)` which returns the $n$-th Catalan number.\n",
    "2. Write a non recursive function `CatalanNotRecursive(n)` which returns the $n$-th Catalan number.<br>\n",
    "<i>(It means that you will also use recursive formula ($\\star$) but your function `CatalanNotRecursive(n)` should not call itself.)</i>"
   ]
  },
  {
   "cell_type": "markdown",
   "metadata": {},
   "source": [
    "<div markdown=1 class=\"Answers\"> \n",
    "\n",
    "\n",
    "1) We simply write the recursion in the code.\n",
    "\n",
    "2) First attempt (wrong result) : I tried to guess the formula of a non recursive function for Catalan Numbers. Let  $\\alpha,a,b,c$ be four real parameters. Let $(w_n)_{n\\geq 0}$ be the sequence defined by\n",
    "$$\n",
    "w_n=\\alpha 2^n +an^2+bn+c.\n",
    "$$We will use SymPy to find $\\alpha,a,b,c$ such that for every $0\\leq n\\leq 3$,\n",
    "$$\n",
    "w_n=c_n.\n",
    "$$\n",
    "We find that $\\alpha,a,b,c = (1, 0, -1, 0)$  so $w_n=2^n - n$.\n",
    "\n",
    "We now want know if $(w_n)$ corresponds to the non-recursive formula for Catalan numbers.\n",
    "We set \n",
    "<br>\n",
    "$$\n",
    "w_n=2^n - n .\n",
    "$$\n",
    "<br>\n",
    "I compared the first values of the recursive and non recursive formulas, and they do not match for n > 3 !\n",
    "\n",
    "\n",
    "New solution : we use a list that we update with the values of the catalan numbers form $0$ to $n-1$ to compute $c_n$."
   ]
  },
  {
   "cell_type": "code",
   "execution_count": 46,
   "metadata": {},
   "outputs": [
    {
     "name": "stdout",
     "output_type": "stream",
     "text": [
      "Question 1:\n",
      "CatalanRecursive :\n",
      "C_2 =  2\n",
      "C_3 =  5\n",
      "--------------\n",
      "Question 2:First attempt(wrong)\n",
      "alpha,a,b,c =  [(1, 0, -1, 0)]\n",
      "Check:\n",
      "First values of w_n: [1, 1, 2, 5, 12, 27, 58, 121, 248, 503]\n",
      "First values (with recurrence formula) : [1, 1, 2, 5, 14, 42, 132, 429, 1430, 4862]\n",
      "--------------\n",
      "CatalanNotRecursive :\n",
      "C_2 =  2\n",
      "C_3 =  5\n"
     ]
    }
   ],
   "source": [
    "#Question 1, recursive:\n",
    "\n",
    "def CatalanRecursive(n):\n",
    "    if n==0:\n",
    "        return 1\n",
    "    if n==1:\n",
    "        return 1\n",
    "    s = 0\n",
    "    for k in range (n):\n",
    "        s+= CatalanRecursive(k)*CatalanRecursive(n-1-k)\n",
    "    return s\n",
    "\n",
    "print(\"Question 1:\")\n",
    "print(\"CatalanRecursive :\")\n",
    "print(\"C_2 = \",CatalanRecursive(2))\n",
    "print(\"C_3 = \",CatalanRecursive(3))\n",
    "\n",
    "#Question 2, not recursive:\n",
    "\n",
    "var('n',integer=True)\n",
    "var('alpha a b c')\n",
    "def w(n,alpha,a,b,c):\n",
    "    return alpha*2**n +a*n**2 +b*n +c\n",
    "\n",
    "Solutions=solve(\n",
    "# Quantities which are to be zero:\n",
    "[w(0,alpha,a,b,c)-1,\n",
    "w(1,alpha,a,b,c)-1, \n",
    "w(2,alpha,a,b,c)-2*w(0,alpha,a,b,c)*w(1,alpha,a,b,c), \n",
    "w(3,alpha,a,b,c)-2*w(0,alpha,a,b,c)*w(2,alpha,a,b,c)-w(1,alpha,a,b,c)**2, \n",
    "]\n",
    ",\n",
    "# Unknowns:\n",
    "[alpha,a,b,c]\n",
    ")\n",
    "print('--------------')\n",
    "print('Question 2:First attempt(wrong)')\n",
    "print(\"alpha,a,b,c = \", Solutions)\n",
    "\n",
    "def CatalanNotRecursiveFirstAttempt(n):\n",
    "    return 2**n -n \n",
    "\n",
    "print('Check:')\n",
    "print('First values of w_n: '+str([CatalanNotRecursiveFirstAttempt(i) for i in range(10)]))\n",
    "print('First values (with recurrence formula) : '+str([CatalanRecursive(n) for n in range(10)]))\n",
    "\n",
    "print('--------------')\n",
    "\n",
    "def CatalanNotRecursive(n):\n",
    "    if n<=1:\n",
    "        return 1\n",
    "    l =[]\n",
    "    l.append(1)\n",
    "    l.append(1)\n",
    "    for _ in range(2,n+1):\n",
    "        l.append(0)\n",
    "    for i in range(2,n+1):\n",
    "        for j in range(0,i):\n",
    "            l[i]+=l[j]*l[i-1-j]\n",
    "    return l[n]\n",
    "\n",
    "print(\"CatalanNotRecursive :\")\n",
    "print(\"C_2 = \" ,CatalanNotRecursive(2))\n",
    "print('C_3 = ',CatalanNotRecursive(3))"
   ]
  },
  {
   "cell_type": "markdown",
   "metadata": {},
   "source": [
    "<div markdown=1 class=\"DoIt\"> \n",
    "\n",
    "Compare the execution times of your different functions computing the Catalan numbers (say, for $1\\leq n\\leq 15$).<br>\n",
    "You can import the `time` library:\n",
    "```python\n",
    "import time\n",
    "```\n",
    "In order to estimate the running time of some operation Test(), the syntax is\n",
    "```\n",
    "t1=time.process_time()\n",
    "Test()\n",
    "t2=time.process_time()\n",
    "print(t2-t1)\n",
    "```"
   ]
  },
  {
   "cell_type": "code",
   "execution_count": 55,
   "metadata": {},
   "outputs": [
    {
     "data": {
      "image/png": "[encoded data removed]",
      "text/plain": [
       "<Figure size 432x288 with 1 Axes>"
      ]
     },
     "metadata": {
      "needs_background": "light"
     },
     "output_type": "display_data"
    }
   ],
   "source": [
    "def timelist_rec():\n",
    "    l = []\n",
    "    for n in range(1,16):\n",
    "        t1=time.process_time()\n",
    "        CatalanRecursive(n)\n",
    "        t2=time.process_time()\n",
    "        l.append((t2-t1))\n",
    "    return l\n",
    "l1 = timelist_rec()\n",
    "\n",
    "    \n",
    "plt.plot(range(1,16),l1,label='pi')\n",
    "plt.xlabel('Number $n$')\n",
    "plt.ylabel('Time to compute $C_n$ recursively')\n",
    "plt.title('Comparing execution times')\n",
    "plt.show()"
   ]
  },
  {
   "cell_type": "markdown",
   "metadata": {},
   "source": [
    "<div markdown=1 class=\"Rmk\"><a id=\"EquationE\"></a> \n",
    "It can be proved that for every $n$\n",
    "$$\n",
    "c_{n}=\\frac{1}{n+1}\\binom{2n}{n}. \\tag{E}\n",
    "$$\n",
    "You may try to use this formula to write another non-recursive function which returns $c_n$. Yet the formula (E) will not be useful for the rest of the project."
   ]
  },
  {
   "cell_type": "markdown",
   "metadata": {},
   "source": [
    "<a id=\"CatalanGF\"></a>\n",
    "# 2. Catalan and generating functions\n",
    "\n",
    "Let \n",
    "$$\n",
    "\\mathcal{C}(x)=\\sum_{n\\geq 0}c_n x^n=1+x+2x^2+5x^3+\\dots\n",
    "$$\n",
    "denote the generating function of the Catalan numbers."
   ]
  },
  {
   "cell_type": "markdown",
   "metadata": {},
   "source": [
    "<div markdown=1 class=\"DoIt\"> \n",
    "\n",
    "1. **(Theory)** Use the recursive formula [($\\star$)](#Computing) to prove that $\\mathcal{C}(x)$ is a solution of the following equation of degree two: <br>\n",
    "$$\n",
    "\\mathcal{C}(x)=1+x\\mathcal{C}(x)^2. \n",
    "$$\n",
    "<br>\n",
    "(In this equation, $\\mathcal{C}(x)$ is the unknown and $x$ is a parameter.)\n",
    "2. Deduce a formula for $\\mathcal{C}(x)$. What is the radius of convergence?"
   ]
  },
  {
   "cell_type": "markdown",
   "metadata": {},
   "source": [
    "<a id=\"GeneratingFunctions\"></a>\n",
    "## Tutorial: how to manipulate Generating Functions with SymPy\n",
    "\n",
    "We work out with the example of \n",
    "<br><br>\n",
    "$$\n",
    "f(x)=\\frac{1}{1-2x}=1+2x+4x^2+8x^3+16x^4+ \\dots\n",
    "$$\n",
    "<br>\n",
    "We first introduce variable $x$ and function $f$ as follows:"
   ]
  },
  {
   "cell_type": "code",
   "execution_count": 3,
   "metadata": {},
   "outputs": [
    {
     "name": "stdout",
     "output_type": "stream",
     "text": [
      "f = 1/(1 - 2*x)\n",
      "series expansion of f at 0 and of order 10 is: 1 + 2*x + 4*x**2 + 8*x**3 + 16*x**4 + 32*x**5 + 64*x**6 + 128*x**7 + 256*x**8 + 512*x**9 + O(x**10)\n"
     ]
    }
   ],
   "source": [
    "x=var('x')\n",
    "f=(1/(1-2*x))\n",
    "\n",
    "print('f = '+str(f))\n",
    "print('series expansion of f at 0 and of order 10 is: '+str(f.series(x,0,10)))\n"
   ]
  },
  {
   "cell_type": "markdown",
   "metadata": {},
   "source": [
    "One can extract coefficient $n$ as follows:\n",
    "* $f$ has to be truncated at order $k$ (for some $k>n$) with `f.series(x,0,k)`\n",
    "* the $n$-th coefficient is then extracted by `f.coeff(x**n)`"
   ]
  },
  {
   "cell_type": "code",
   "execution_count": 4,
   "metadata": {},
   "outputs": [
    {
     "name": "stdout",
     "output_type": "stream",
     "text": [
      "Truncation of f is 1 + 2*x + 4*x**2 + 8*x**3 + 16*x**4 + 32*x**5 + 64*x**6 + 128*x**7 + O(x**8)\n",
      "6th coefficient is: 64\n"
     ]
    }
   ],
   "source": [
    "f_truncated = f.series(x,0,8)\n",
    "print('Truncation of f is '+str(f_truncated))\n",
    "n=6\n",
    "nthcoefficient=f_truncated.coeff(x**n)\n",
    "print(str(n)+'th coefficient is: '+str(nthcoefficient))\n"
   ]
  },
  {
   "cell_type": "markdown",
   "metadata": {},
   "source": [
    "<div markdown=1 class=\"DoIt\"> Use SymPy to write another programm which computes the Catalan numbers using $\\mathcal{C}(x)$, and compare the execution times with the functions of the first part of the Project."
   ]
  },
  {
   "cell_type": "markdown",
   "metadata": {},
   "source": [
    "### A variant: Motzkin numbers\n",
    "\n",
    "The <i>Motzkin numbers</i> $m_0,m_1,m_2,\\dots$ are similar to Catalan numbers and defined by $m_0=m_1=1$ and for every $n\\geq 2$\n",
    "$$\n",
    "m_n=m_{n-1}+\\sum_{k=0}^{n-2}m_km_{n-2-k}.\n",
    "$$"
   ]
  },
  {
   "cell_type": "markdown",
   "metadata": {},
   "source": [
    "<div markdown=1 class=\"DoIt\"> \n",
    "\n",
    "**(Theory + SymPy)** \n",
    "\n",
    "1. Find the generating function $\\mathcal{M}(x)=\\sum_{n\\geq 0}m_nx^n$. \n",
    "2. Compute the radius of convergence of $\\mathcal{C}$ and $\\mathcal{M}$. Compare with numerical experiments: which sequence is growing fastest between $(c_n)$ and $(m_n)$?"
   ]
  },
  {
   "cell_type": "code",
   "execution_count": null,
   "metadata": {},
   "outputs": [],
   "source": []
  },
  {
   "cell_type": "markdown",
   "metadata": {},
   "source": [
    "# Dealing with large Catalan numbers"
   ]
  },
  {
   "cell_type": "markdown",
   "metadata": {},
   "source": [
    "<a id=\"Bostan\"></a>\n",
    "## Catalan and modulos: the Bostan Conjecture"
   ]
  },
  {
   "cell_type": "markdown",
   "metadata": {},
   "source": [
    "<div markdown=1 class=\"DoIt\"> \n",
    "\n",
    "Alin Bostan (computer scientist at INRIA and Ecole Polytechnique) conjectured a few years ago <a href=\"http://www.mat.univie.ac.at/%7Eslc/wpapers/s80vortrag/bostan.pdf\">(see this link p.26)</a> that in basis 10 the last digit of $c_n$ is never $3$. So far this is still an open problem.<br>\n",
    "\n",
    "1. Check the conjecture for $1\\leq n\\leq 100$. The output should look like\n",
    "```python\n",
    "Catalan 1 mod 10 is 1: the Conjecture is True\n",
    "Catalan 2 mod 10 is 2: the Conjecture is True\n",
    "Catalan 3 mod 10 is 5: the Conjecture is True\n",
    "Catalan 4 mod 10 is 4: the Conjecture is True\n",
    "...\n",
    "```\n",
    "2. How to check the conjecture for very large values? Try for example with $7000\\leq n\\leq 7100$.<br>\n",
    "<i>(Hint: Be careful how you compute $c_n \\mod 10$, since $c_n$ grows very fast!)</i>\n",
    "3. More generally, what is the frequency of $0,1,\\dots,9$ among last digits of the $n$ first Catalan numbers?\n"
   ]
  },
  {
   "cell_type": "markdown",
   "metadata": {},
   "source": [
    "<div markdown=1 class=\"Answers\"> "
   ]
  },
  {
   "cell_type": "code",
   "execution_count": null,
   "metadata": {},
   "outputs": [],
   "source": []
  },
  {
   "cell_type": "markdown",
   "metadata": {},
   "source": [
    "<a id=\"Asymptotics\"></a>\n",
    "## The <i>length</i> of large Catalan numbers"
   ]
  },
  {
   "cell_type": "markdown",
   "metadata": {},
   "source": [
    "It can be proved (this is beyond the level of Bachelor 2, a possible reference is p.384 in Ph.Flajolet, R.Sedgewick, <i>Analytic Combinatorics</i>) that for every $n$ we have\n",
    "$$\n",
    "\\frac{4^n}{\\sqrt{\\pi n^3}}\\big(1-\\frac{9}{8n}\\big) \\leq c_n \\leq \\frac{4^n}{\\sqrt{\\pi n^3}}, \\tag{\\$}\n",
    "$$\n",
    "which yields very good approximations when $n$ is large.\n",
    "We will use this approximation to estimate the <i>length</i> (<i>i.e.</i> the number of digits) of $c_n$ when $n$  is a power of ten."
   ]
  },
  {
   "cell_type": "markdown",
   "metadata": {},
   "source": [
    "<div markdown=1 class=\"DoIt\"> \n",
    "Consider the following table which records the <i>length</i> of $c_{10}$, $c_{100}$, $c_{1000}$,...\n",
    "\n",
    "\n",
    "<font size=\"+3\">\n",
    "<table>\n",
    "            <tr>\n",
    "                <td width=\"100\"> $c_{10^n}$</td>\n",
    "                <td > Number of digits of $c_{10^n}$</td>\n",
    "            </tr>\n",
    "            <tr>\n",
    "                <td width=\"100\"> $c_{10}$</td>\n",
    "                <td > 5</td>\n",
    "            </tr>\n",
    "            <tr>\n",
    "                <td width=\"100\"> $c_{100}$</td>\n",
    "                <td > 57</td>\n",
    "            </tr>\n",
    "            <tr>\n",
    "                <td width=\"100\"> $c_{10^3}$</td>\n",
    "                <td > 598</td>\n",
    "            </tr>\n",
    "            <tr>\n",
    "                <td width=\"100\"> $c_{10^4}$</td>\n",
    "                <td > 6015</td>\n",
    "            </tr>\n",
    "            <tr>\n",
    "                <td width=\"100\"> $c_{10^5}$</td>\n",
    "                <td > 60199</td>\n",
    "            </tr>\n",
    "            <tr>\n",
    "                <td width=\"100\"> $c_{10^6}$</td>\n",
    "                <td > 602051</td>\n",
    "            </tr>\n",
    "</table>\n",
    "</font>\n",
    "\n",
    "(For instance, $c_{10}=16796$ which has $5$ digits.)\n",
    "\n",
    "The goal is to complete the table. (An interesting challenge could be to break the record of <a href=\"https://oeis.org/A114466\">this sequence in the Online Encyclopedia of Integer Sequences</a>!)<br>\n",
    "For that purpose you have to\n",
    "1. **(Theory)** Find somewhere (or reprove) the formula which gives the number of digits of a given integer.\n",
    "2. Use this formula and python to complete the table. **Warning:** Do not try to explicitly compute $Cat_{10^n}$ since they grow too fast. Instead you need to figure out how to use equation (\\$) above."
   ]
  },
  {
   "cell_type": "markdown",
   "metadata": {},
   "source": [
    "<div markdown=1 class=\"Answers\"> "
   ]
  },
  {
   "cell_type": "code",
   "execution_count": null,
   "metadata": {},
   "outputs": [],
   "source": [
    "\n"
   ]
  },
  {
   "cell_type": "markdown",
   "metadata": {},
   "source": [
    "<div markdown=1 class=\"DoIt\">  <b>(Theory)</b> For larger and larger $n$'s the right column always begins with the same digits ($60205...$). Can you explain this pattern?\n",
    "\n",
    "(<i>Hint: Again, you should use equation </i>(\\$)<i>.</i>)"
   ]
  },
  {
   "cell_type": "markdown",
   "metadata": {},
   "source": [
    "<div markdown=1 class=\"Answers\"> "
   ]
  },
  {
   "cell_type": "markdown",
   "metadata": {},
   "source": [
    "<a id=\"Combinatorial\"></a>\n",
    "# 4. Three combinatorial interpretations of $c_n$"
   ]
  },
  {
   "cell_type": "markdown",
   "metadata": {},
   "source": [
    "<a id=\"Triangle\"></a>\n",
    "## Paths on a triangle"
   ]
  },
  {
   "cell_type": "markdown",
   "metadata": {},
   "source": [
    "Let $\\mathcal{T}\\subset \\mathbb{N}^2$ denote the infinite \"triangle\"\n",
    "$$\n",
    "\\mathcal{T}=\\big\\{(k,n),\\quad 0\\leq k\\leq n \\big\\}\n",
    "$$\n",
    "(see the figure below).\n",
    "\n",
    "For $(k,n) \\in \\mathcal{T}$ we denote by $P_{k,n}$ the number of paths such that:\n",
    "* the path starts at $(0,0)$ ends at $(n,k)$ and entirely lies inside $\\mathcal{T}$\n",
    "* the paths only takes unit steps in the North and East directions.\n",
    "\n",
    "For example this figure shows that $P_{2,3}=5$:\n",
    "\n",
    "<img src=\"figures/Escalier.jpg\" width='500px' >\n",
    "    "
   ]
  },
  {
   "cell_type": "markdown",
   "metadata": {},
   "source": [
    "<div markdown=1 class=\"DoIt\"> \n",
    "\n",
    "1. Write a function `Paths(K,N)` which returns a table (or a matrix) of all the values of $P_{k,n}$ for $k\\leq K, n\\leq N$.<br>\n",
    "<i>(Hint: Think recursive!)</i>\n",
    "2. Do you see on your table the connection with the Catalan numbers? **(Difficult)** Can you prove it?"
   ]
  },
  {
   "cell_type": "markdown",
   "metadata": {},
   "source": [
    "<div markdown=1 class=\"Answers\"> "
   ]
  },
  {
   "cell_type": "code",
   "execution_count": null,
   "metadata": {},
   "outputs": [],
   "source": []
  },
  {
   "cell_type": "markdown",
   "metadata": {},
   "source": [
    "<a id=\"Parentheses\"></a>\n",
    "##  Well-formed parentheses expressions\n",
    "\n",
    "It can be shown that $c_n$ counts the number of expressions containing $n$ pairs of parentheses which are <i>correctly matched</i>. For the first values we obtain\n",
    "$$\n",
    "\\begin{array}{r c c c c c}\n",
    "n=1: & ()   &       &     &     &      \\\\\n",
    "n=2: & (()) & ()()  &     &     &      \\\\\n",
    "n=3: & ((())) & (())()  &  ()(())    &  ()()()   &  (()())    \\\\\n",
    "\\end{array}\n",
    "$$"
   ]
  },
  {
   "cell_type": "markdown",
   "metadata": {},
   "source": [
    "<div markdown=1 class=\"DoIt\"> \n",
    "1. Write a recursive function `Parentheses(n)` which returns the list of all well-formed parentheses expressions with $n$ pairs of parentheses.\n",
    "2. Check for different values that the list has length $c_n$."
   ]
  },
  {
   "cell_type": "markdown",
   "metadata": {},
   "source": [
    "<div markdown=1 class=\"DoIt\"> **(Theory)** Prove that the number of well-formed parentheses expressions is counted by Catalan numbers."
   ]
  },
  {
   "cell_type": "markdown",
   "metadata": {},
   "source": [
    "<a id=\"Trees\"></a>\n",
    "## Binary trees\n",
    "\n",
    "A <i>binary tree</i> is a tree in which every internal node (in grey in above pictures) has exactly two children. Leaves (in green) have no children. The **size** of a binary tree is its number of internal nodes. There is one binary tree of size $1$, and two binary trees of size $2$, five binary trees of size $3$:\n",
    "<br>\n",
    "<img src=\"./figures/BinaryTree.jpg\" style=\"width: 700px;\"/>\n",
    "\n",
    "Let $t_n$ be the number of binary trees of size $n$, by convention we put $t_0=1$ (this corresponds to a leaf without any internal node)."
   ]
  },
  {
   "cell_type": "markdown",
   "metadata": {},
   "source": [
    "<div markdown=1 class=\"DoIt\"> \n",
    "**(Theory)** Prove that $t_n$ is the $n$-th Catalan number."
   ]
  },
  {
   "cell_type": "code",
   "execution_count": null,
   "metadata": {},
   "outputs": [],
   "source": []
  }
 ],
 "metadata": {
  "kernelspec": {
   "display_name": "Python 3 (ipykernel)",
   "language": "python",
   "name": "python3"
  },
  "language_info": {
   "codemirror_mode": {
    "name": "ipython",
    "version": 3
   },
   "file_extension": ".py",
   "mimetype": "text/x-python",
   "name": "python",
   "nbconvert_exporter": "python",
   "pygments_lexer": "ipython3",
   "version": "3.9.7"
  }
 },
 "nbformat": 4,
 "nbformat_minor": 4
}
