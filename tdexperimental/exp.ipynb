{
 "cells": [
  {
   "cell_type": "markdown",
   "metadata": {},
   "source": [
    "<img src='./figures/logo-ecole-polytechnique-ve.jpg' style='position:absolute; top:0; right:0;' width='100px' height='' alt='' />\n",
    "\n",
    "<center>**Bachelor of Ecole Polytechnique**</center>\n",
    "<center><i>Algorithms for Discrete Mathematics</i>, year 2, semester 1</center>\n",
    "\n",
    "# Experimental Maths 1: Primes and Euclid (with Solutions)\n"
   ]
  },
  {
   "cell_type": "markdown",
   "metadata": {},
   "source": [
    "## Table of contents\n",
    "\n",
    "- [1. Primes and factorization](#DistributionPrime)\n",
    " - [Prime numbers and divisibility](#DistributionPrime)\n",
    " - [Factorization](#Factorization)\n",
    " - [Euclid Algorithm and application](#EuclidAlgorithm)\n",
    "- [2. Sums of squares](#SumsOfTwoSquares)\n",
    "- [3. A mysterious function](#ChangeBasis)\n"
   ]
  },
  {
   "cell_type": "code",
   "execution_count": 1,
   "metadata": {},
   "outputs": [
    {
     "data": {
      "text/html": [
       "<link href='http://fonts.googleapis.com/css?family=Fenix' rel='stylesheet' type='text/css'>\n",
       "<link href='http://fonts.googleapis.com/css?family=Alegreya+Sans:100,300,400,500,700,800,900,100italic,300italic,400italic,500italic,700italic,800italic,900italic' rel='stylesheet' type='text/css'>\n",
       "<link href='http://fonts.googleapis.com/css?family=Source+Code+Pro:300,400' rel='stylesheet' type='text/css'>\n",
       "<link href=\"https://fonts.googleapis.com/css?family=Oswald|Raleway\" rel=\"stylesheet\" type='text/css'> \n",
       "<style>\n",
       ".prompt{\n",
       "    display: none !important;\n",
       "}\n",
       "\n",
       ".rendered_html pre {\n",
       "    border: 1px solid #f0f6f9 !important;\n",
       "}\n",
       "\n",
       ".rendered_html pre, .rendered_html code {\n",
       "    background-color: #d3d8db !important;\n",
       "    padding: 1% !important;\n",
       "    line-height: 200% !important;\n",
       "    border-radius: 10px !important;\n",
       "}\n",
       "\n",
       "div.input_area {\n",
       "    border-radius: 10px !important;\n",
       "    background-color: #e1e1e6 !important;\n",
       "}\n",
       "\n",
       "div.cell{\n",
       "        width:85% !important;\n",
       "        margin-left:5% !important;\n",
       "        /*margin-right:auto;*/\n",
       "    }\n",
       "    h1, h2, h3, h4, h5 {\n",
       "        font-family: 'Oswald', sans-serif; !important;\n",
       "        font-style: oblique !important;\n",
       "    }\n",
       "    div.text_cell_render{\n",
       "        font-family: 'Raleway', sans-serif; !important;\n",
       "        line-height: 135% !important;\n",
       "        font-size: 120% !important;\n",
       "        width:100%;/*600px;*/\n",
       "        /*margin-left:auto;*/\n",
       "        /*margin-right:auto;*/\n",
       "    }\n",
       "    .CodeMirror{\n",
       "            font-family: \"Source Code Pro\" !important;\n",
       "\t\t\tfont-size: 100% !important;\n",
       "    }\n",
       "    .text_cell_render p{\n",
       "        text-align: justify !important;\n",
       "    }\n",
       "    .text_cell_render h1 {\n",
       "        font-weight: 200 !important;\n",
       "\t\tline-height: 100% !important;\n",
       "        color:#47597A !important;\n",
       "        margin-bottom: 10.em !important;\n",
       "        margin-top: 50.em !important;\n",
       "        padding-bottom: 50.em !important;\n",
       "        padding-top: 50.em !important;\n",
       "        display: block !important;\n",
       "        font-size: 300% !important;\n",
       "        text-align: center !important;\n",
       "        border-bottom: 1px solid #47597A !important;\n",
       "        border-top: 1px solid #47597A !important;\n",
       "    }\n",
       "    .text_cell_render h2 {\n",
       "        font-weight: 200 !important;\n",
       "\tline-height: 100% !important;\n",
       "        color:#47597A !important;\n",
       "        margin-bottom: 0.5em !important;\n",
       "        margin-top: 0.5em !important;\n",
       "        display: block !important;\n",
       "        font-size: 200% !important;\n",
       "        border-bottom: 1px solid #47597A !important;\n",
       "    }\n",
       "    .text_cell_render h3 {\n",
       "        font-weight: 200 !important;\n",
       "\tline-height: 100% !important;\n",
       "        color:#47597A !important;\n",
       "        margin-bottom: 0.5em !important;\n",
       "        margin-top: 0.5em !important;\n",
       "        display: block !important;\n",
       "        font-size: 150% !important;\n",
       "    }\n",
       "    .text_cell_render h4 {\n",
       "        font-style: italic !important;\n",
       "        font-weight: bold !important;\n",
       "\tline-height: 100% !important;\n",
       "        color:#47597A !important;\n",
       "        display: block !important;\n",
       "        font-size: 100% !important;\n",
       "    }\n",
       "    .text_cell_render h5 {\n",
       "        font-weight: 200 !important;\n",
       "\tline-height: 100% !important;\n",
       "        color:#47597A !important;\n",
       "        margin-bottom: 0.5em !important;\n",
       "        margin-top: 0.5em !important;\n",
       "        display: block !important;\n",
       "        font-size: 100% !important;\n",
       "    }\n",
       "    .text_cell_render ul {\n",
       "\tlist-style-type: disc !important;\n",
       "\tline-height: 2;\n",
       "\t/*color:#47597A !important;*/\n",
       "    }\n",
       "    .warning{\n",
       "        color: rgb( 240, 20, 20 ) !important;\n",
       "        }\n",
       "    .Abstract {  \n",
       "\ttext-align: justify;\n",
       "\tbackground-color: #d6edf9;\n",
       "\tborder-left: 5px solid #47597A;\n",
       "\tpadding: 0.5em;\n",
       "\tmargin: 0  150px 0 150px;\n",
       "    }\n",
       "    .Def {    \n",
       "\tbackground-color: #d9f7d7;\n",
       "\tborder-left: 5px solid #4a7047;\n",
       "\tpadding: 0.5em;\n",
       "    }\n",
       "    .Def:before {\n",
       "\tcontent: \"Definition.\";\n",
       "\tcolor:#4a7047;\n",
       "\tfont-weight: bold;\n",
       "\tfont-style: normal;\n",
       "    }\n",
       "    .DoIt {    \n",
       "\tbackground-color: #e8cfc9;\n",
       "\tborder-left: 5px solid #a90e05;\n",
       "\tpadding: 0.5em;\n",
       "    }\n",
       "    .DoIt:before {\n",
       "\tcontent: \"Do it yourself.\";\n",
       "\tcolor:#a90e05;\n",
       "\tfont-weight: bold;\n",
       "\tfont-style: normal;\n",
       "    }\n",
       "    .Answers {    \n",
       "\tbackground-color: #DDA0DD;\n",
       "\tborder-left: 5px solid #9932CC;\n",
       "\tpadding: 0.5em;\n",
       "    }\n",
       "    .Answers:before {\n",
       "\tcontent: \"Answers.\";\n",
       "\tcolor:#682145;\n",
       "\tfont-weight: bold;\n",
       "\tfont-style: normal;\n",
       "    }\n",
       "    .Prop {    \n",
       "\tbackground-color:#f9ecd1;\n",
       "\tborder-left: 5px solid #ba7021;\n",
       "\tpadding: 0.5em;\n",
       "    }\n",
       "   .Prop:before {\n",
       "       content: \"Proposition.\";\n",
       "       color:#ba7021;\n",
       "       font-weight: bold;\n",
       "       font-style: normal;\n",
       "    }\n",
       "   .Thm {    \n",
       "\tbackground-color:#f9ecd1;\n",
       "\tborder-left: 5px solid #ba7021;\n",
       "\tpadding: 0.5em;\n",
       "    }\n",
       "   .Thm:before {\n",
       "       content: \"Theorem.\";\n",
       "       color:#ba7021;\n",
       "       font-weight: bold;\n",
       "       font-style: normal;\n",
       "    } \n",
       "   .Algo {    \n",
       "\tbackground-color:#f9ecd1;\n",
       "\tborder-left: 5px solid #ba7021;\n",
       "\tpadding: 0.5em;\n",
       "    }\n",
       "   .Algo:before {\n",
       "       content: \"Algorithm.\";\n",
       "       color:#ba7021;\n",
       "       font-weight: bold;\n",
       "       font-style: normal;\n",
       "    }\n",
       "    .Rmk {    \n",
       "\tbackground-color: #dbf1fc;\n",
       "\tborder-left: 5px solid #385487;\n",
       "\tpadding: 0.5em;\n",
       "    }\n",
       "    .Rmk:before {\n",
       "\tcontent: \"Remark.\";\n",
       "\tcolor:#385487;\n",
       "\tfont-weight: bold;\n",
       "\tfont-style: normal;\n",
       "    }\n",
       "    .Ex {    \n",
       "\tbackground-color: #dbf1fc;\n",
       "\tborder-left: 5px solid #385487;\n",
       "\tpadding: 0.5em;\n",
       "    }\n",
       "    .Ex:before {\n",
       "\tcontent: \"Example.\";\n",
       "\tcolor:#385487;\n",
       "\tfont-weight: bold;\n",
       "\tfont-style: normal;\n",
       "    }\n",
       "\n",
       "/*    .toc-item-num {\n",
       "#        display: none;\n",
       "#    }\n",
       "*/\n",
       "    .reveal section img{\n",
       "        margin: 0px auto;\n",
       "    }\n",
       "\n",
       "    div.output_area img{\n",
       "        display: block;\n",
       "        margin: 0px auto;\n",
       "    }\n",
       "  \n",
       "</style>\n",
       "\n",
       "<script>\n",
       "MathJax.Hub.Config({\n",
       "TeX: {extensions: [\"AMSmath.js\"] },\n",
       "                tex2jax: {\n",
       "                    inlineMath: [ ['$','$'], [\"\\\\(\",\"\\\\)\"] ],\n",
       "                    displayMath: [ ['$$','$$'], [\"\\\\[\",\"\\\\]\"] ]\n",
       "                },\n",
       "                displayAlign: 'center', // Change this to 'center' to center equations.\n",
       "                \"HTML-CSS\": {\n",
       "                    styles: {'.MathJax_Display': {\"margin\": 4}}\n",
       "                }\n",
       "        });\n",
       "\n",
       "\n",
       "\n",
       "</script>\n"
      ],
      "text/plain": [
       "<IPython.core.display.HTML object>"
      ]
     },
     "execution_count": 1,
     "metadata": {},
     "output_type": "execute_result"
    }
   ],
   "source": [
    "# execute this part to modify the css style\n",
    "from IPython.core.display import HTML\n",
    "def css_styling():\n",
    "    styles = open(\"./style/custom2.css\").read()\n",
    "    return HTML(styles)\n",
    "css_styling()\n"
   ]
  },
  {
   "cell_type": "code",
   "execution_count": 93,
   "metadata": {},
   "outputs": [],
   "source": [
    "## loading python libraries\n",
    "\n",
    "# necessary to display plots inline:\n",
    "%matplotlib inline   \n",
    "\n",
    "# load the libraries\n",
    "import matplotlib.pyplot as plt # 2D plotting library\n",
    "import numpy as np              # package for scientific computing  \n",
    "from math import *              # package for mathematics (pi, arctan, sqrt, factorial ...)\n",
    "import random"
   ]
  },
  {
   "cell_type": "markdown",
   "metadata": {},
   "source": [
    "<a id=\"DistributionPrime\"></a>\n",
    "# Primes and factorization\n",
    "## Prime numbers and divisibility"
   ]
  },
  {
   "cell_type": "markdown",
   "metadata": {},
   "source": [
    "We aim to investigate the distribution of primes among integers. Namely, how many prime numbers are there (approximately) between $1$ and $n$?"
   ]
  },
  {
   "cell_type": "markdown",
   "metadata": {},
   "source": [
    "<div markdown=1 class=\"DoIt\"> \n",
    "\n",
    "Write a boolean function IsPrime($n$) which returns `True` if and only $n$ is prime.<br>\n",
    "<i>(In python $a\\ (\\mathrm{mod}\\ p)$ is obtained with `a%p`.)</i>"
   ]
  },
  {
   "cell_type": "code",
   "execution_count": 52,
   "metadata": {},
   "outputs": [
    {
     "data": {
      "text/plain": [
       "True"
      ]
     },
     "execution_count": 52,
     "metadata": {},
     "output_type": "execute_result"
    }
   ],
   "source": [
    "def IsPrime(n):\n",
    "    # input: integer n\n",
    "    # output: True or False depending on whether n is prime or not\n",
    "    for i in range(2,n):\n",
    "        if (n%i) ==0:   # found a factor\n",
    "            return False\n",
    "    return True\n",
    "    \n",
    "IsPrime(2)\n"
   ]
  },
  {
   "cell_type": "markdown",
   "metadata": {},
   "source": [
    "Now we are ready for experiment. For $n\\geq 2$, let $\\pi(n)$ denote the number of primes less than $n$. For example, $\\pi(11)=5$ since $2,3,5,7,11$ are prime."
   ]
  },
  {
   "cell_type": "markdown",
   "metadata": {},
   "source": [
    "<div markdown=1 class=\"DoIt\">\n",
    "\n",
    "1. Write a script which takes as input $n$ and returns the list $[\\pi(2),\\pi(3),\\dots,\\pi(n)]$.\n",
    "2. Plot the function $n \\mapsto \\pi(n)$ (try $n=100,1000,10000$)."
   ]
  },
  {
   "cell_type": "code",
   "execution_count": 77,
   "metadata": {},
   "outputs": [
    {
     "data": {
      "image/png": "[encoded data removed]",
      "text/plain": [
       "<Figure size 432x288 with 1 Axes>"
      ]
     },
     "metadata": {
      "needs_background": "light"
     },
     "output_type": "display_data"
    }
   ],
   "source": [
    "def list_pi_n(n):\n",
    "    res = []\n",
    "    for m in range(2,n+1):\n",
    "        pi_m = 0\n",
    "        for i in range(2,m+1):\n",
    "            if IsPrime(i):\n",
    "                pi_m +=1\n",
    "        res.append(pi_m)\n",
    "    return res\n",
    "\n",
    "list_pi_n(11)\n",
    "\n",
    "\n",
    "\n",
    "y = [list_pi_n(i)[-1] for i in range(2,100)]\n",
    "z = [i/ log(i) for i in range(2,100)]\n",
    "plt.title(\"pi_n : number of primes less than or equal to n \") \n",
    "plt.xlabel(\"n\") \n",
    "plt.plot(y, label = \"pi_n\") \n",
    "plt.plot(z, label = \"n/log(n)\")\n",
    "plt.legend()\n",
    "plt.show()"
   ]
  },
  {
   "cell_type": "markdown",
   "metadata": {},
   "source": [
    "<div markdown=1 class=\"DoIt\"> Modify your previous plot to illustrate the <a href=\"https://en.wikipedia.org/wiki/Prime_number_theorem\">Prime Number Theorem</a>:\n",
    "$$\n",
    "\\pi(n)\\sim \\frac{n}{\\log(n)}.\n",
    "$$\n"
   ]
  },
  {
   "cell_type": "code",
   "execution_count": null,
   "metadata": {},
   "outputs": [],
   "source": []
  },
  {
   "cell_type": "markdown",
   "metadata": {},
   "source": [
    "<a id=\"Factorization\"></a>\n",
    "## Factorization"
   ]
  },
  {
   "cell_type": "markdown",
   "metadata": {},
   "source": [
    "<div markdown=1 class=\"DoIt\"> Write a function `Factorize(n)` which returns the factorization of `n` into primes. For example your function should return:\n",
    "\n",
    "```python\n",
    "Factorize(2158884)\n",
    "[2, 2, 3, 3, 7, 13, 659]\n",
    "```\n",
    "\n",
    "<i>Hint: Think recursive!</i>"
   ]
  },
  {
   "cell_type": "code",
   "execution_count": 87,
   "metadata": {},
   "outputs": [
    {
     "data": {
      "text/plain": [
       "[2, 2, 3, 3, 7, 13, 659]"
      ]
     },
     "execution_count": 87,
     "metadata": {},
     "output_type": "execute_result"
    }
   ],
   "source": [
    "def Factorize(n):\n",
    "    # input: integer n\n",
    "    # output: list of factors of n\n",
    "    if IsPrime(n):\n",
    "        return [n]\n",
    "    for i in range(2, n):\n",
    "        if IsPrime(i):\n",
    "            if n%i==0:\n",
    "                return [i] + Factorize(int(n/i))          \n",
    "Factorize(2158884)"
   ]
  },
  {
   "cell_type": "markdown",
   "metadata": {},
   "source": [
    "For $n\\geq 2$ we introduce \n",
    "$$\n",
    "F(n)=\\text{Number of prime factors of $n$, counted with multiplicity}. \n",
    "$$\n",
    "For example, $F(2158884)=7$."
   ]
  },
  {
   "cell_type": "markdown",
   "metadata": {},
   "source": [
    "<div markdown=1 class=\"DoIt\"> Plot the function $n \\mapsto F(n)$ (try $n=100,1000,5000$)."
   ]
  },
  {
   "cell_type": "code",
   "execution_count": 78,
   "metadata": {},
   "outputs": [
    {
     "data": {
      "image/png": "[encoded data removed]",
      "text/plain": [
       "<Figure size 432x288 with 1 Axes>"
      ]
     },
     "metadata": {
      "needs_background": "light"
     },
     "output_type": "display_data"
    }
   ],
   "source": [
    "\n",
    "y = [len(Factorize(i)) for i in range(2,100)]\n",
    "z = [log2(i) for i in range(2,100)]\n",
    "plt.title(\" nb of prime factors of n counted with multiplicity \") \n",
    "plt.xlabel(\"n\") \n",
    "plt.plot(y, label = \"F(n)\") \n",
    "plt.plot(z, label = \"log2 (n)\")\n",
    "plt.legend()\n",
    "plt.show()"
   ]
  },
  {
   "cell_type": "markdown",
   "metadata": {},
   "source": [
    "<div markdown=1 class=\"DoIt\"> <b>(Theory)</b><br>\n",
    "\n",
    "1. Plot on the previous picture $n\\mapsto F(n)$ and $n\\mapsto \\log_2(n)$ (logarithm in basis two).\n",
    "2. Prove the following: \n",
    "  - <b>(lower bound)</b> There are infinitely many $n$'s for which $F(n)=\\log_2(n)$.\n",
    "  - <b>(upper bound)</b> $F(n)\\leq \\log_2(n)$ for every $n$.\n"
   ]
  },
  {
   "cell_type": "markdown",
   "metadata": {},
   "source": [
    "<div markdown=1 class=\"Answers\"> \n",
    "\n"
   ]
  },
  {
   "cell_type": "markdown",
   "metadata": {},
   "source": [
    "lower bound:\n",
    "F(n)=log2(n) implies that n = 2** (F(n)) . Since F(n) tends to infinity as n tends to infinity, so is 2**(F(n)). So there are infinitely many n's for which F(n)=log2(n).\n",
    "\n",
    "\n",
    "upper bound:\n",
    "We prove it by induction. \n",
    "for n=1, F(1) = log2(1)= 0\n",
    "Assume it is true for a fixed k. Let us prove that F(k+1) <= log2(k+1)\n",
    "F(n+1) <= F(n) + 1 because it is F(n) if n is no prime and F(n) +1 if n is prime\n",
    "F(n+1) <= log2(n) + 1 by induction hypothesis\n",
    "F(n+1) <= log2(n+1) by a property of logarithm\n",
    "We have proved the induction."
   ]
  },
  {
   "cell_type": "markdown",
   "metadata": {},
   "source": [
    "<a id=\"EuclidAlgorithm\"></a>\n",
    "## The Euclid algorithm"
   ]
  },
  {
   "cell_type": "markdown",
   "metadata": {},
   "source": [
    "We recall that Euclid's algorithm (which computes the gcd of two non-negative integers) relies on the fact that for every $a,b$ we have\n",
    "$$\n",
    "\\begin{cases}\n",
    "\\mathrm{gcd}(a,b)&=\\mathrm{gcd}(b,a\\% b),\\\\\n",
    "\\mathrm{gcd}(a,0)&=a,\\\\\n",
    "\\end{cases}\n",
    "$$\n",
    "where $a\\% b$ is the remainder of the euclidean division $a/b$."
   ]
  },
  {
   "cell_type": "markdown",
   "metadata": {},
   "source": [
    "<div markdown=1 class=\"DoIt\">\n",
    "Write a function `GreatestCommonDivisor(a,b)` which returns $\\mathrm{gcd}(a,b)$ using the Euclid algorithm."
   ]
  },
  {
   "cell_type": "code",
   "execution_count": 90,
   "metadata": {},
   "outputs": [
    {
     "data": {
      "text/plain": [
       "9"
      ]
     },
     "execution_count": 90,
     "metadata": {},
     "output_type": "execute_result"
    }
   ],
   "source": [
    "def GreatestCommonDivisor(a,b):\n",
    "    # input: a,b: non-negative integers\n",
    "    # output: returns the gcd of a and b\n",
    "    \n",
    "    if b==0:\n",
    "        return a\n",
    "    return GreatestCommonDivisor(b, a%b)\n",
    "\n",
    "\n",
    "GreatestCommonDivisor(54,225)"
   ]
  },
  {
   "cell_type": "markdown",
   "metadata": {},
   "source": [
    "Integers $m,n$ are said to be <i>coprime</i> if $\\mathrm{gcd}(m,n)=1$. For example, $14,9$ are coprime.\n",
    "\n",
    "In many references (see e.g. <a href=\"https://en.wikipedia.org/wiki/Coprime_integers#Probability_of_coprimality\">Wikipedia</a>) one can read that\n",
    "<center>\n",
    "    \"<i>The probability that two numbers randomly chosen are coprime is $\\frac{6}{\\pi^2}$.</i>\"\n",
    "</center>\n",
    "Yet there is no obvious way to rigorously define what are \"two numbers randomly chosen\". A possible interpretation is the following:\n",
    "$$\n",
    "\\frac{\\mathrm{card}\\left\\{(i,j)\\in[1,n]^2\\text{ such that }\\mathrm{gcd}(i,j)=1\\right\\}}{\\mathrm{card}\\left\\{(i,j)\\in[1,n]^2\\right\\}} \\stackrel{n\\to +\\infty}{\\to} \\frac{6}{\\pi^2}.\n",
    "$$"
   ]
  },
  {
   "cell_type": "markdown",
   "metadata": {},
   "source": [
    "<div markdown=1 class=\"DoIt\"> \n",
    "Use your function `GreatestCommonDivisor` to draw a plot which illustrates the above convergence towards $\\frac{6}{\\pi^2}$ ($n=200$ should be enough)."
   ]
  },
  {
   "cell_type": "code",
   "execution_count": 102,
   "metadata": {},
   "outputs": [
    {
     "data": {
      "image/png": "[encoded data removed]",
      "text/plain": [
       "<Figure size 432x288 with 1 Axes>"
      ]
     },
     "metadata": {
      "needs_background": "light"
     },
     "output_type": "display_data"
    }
   ],
   "source": [
    "def random_pair(n):\n",
    "    res = []\n",
    "    for _ in range(n):\n",
    "        res.append([random.randint(1,n), random.randint(1,n)])\n",
    "    return res\n",
    "\n",
    "\n",
    "def y(n):\n",
    "    res = []\n",
    "    for m in range(2,n+1):\n",
    "        for i,j in random_pair(m):\n",
    "            res.append(GreatestCommonDivisor(i,j))\n",
    "    return res\n",
    "\n",
    "y = y(200)\n",
    "plt.title(\" gcd(i,j) for n random pairs \") \n",
    "plt.xlabel(\"n\") \n",
    "plt.plot(y, label = \"gcd(i,j)\") \n",
    "plt.legend()\n",
    "plt.show()"
   ]
  },
  {
   "cell_type": "markdown",
   "metadata": {},
   "source": [
    "<div markdown=1 class=\"DoIt\"> Write a function `GreatestCommonDivisor_3(a,b,c)` which returns the gcd of three numbers."
   ]
  },
  {
   "cell_type": "code",
   "execution_count": null,
   "metadata": {},
   "outputs": [],
   "source": []
  },
  {
   "cell_type": "markdown",
   "metadata": {},
   "source": [
    "<a id=\"SumsOfTwoSquares\"></a>\n",
    "# 2. Sums of squares"
   ]
  },
  {
   "cell_type": "markdown",
   "metadata": {},
   "source": [
    "We say that $n$ is a sum of two squares if there exist two integers $a,b\\geq 1$ such that\n",
    "$$\n",
    "n=a^2+b^2.\n",
    "$$\n",
    "For example, $10=3^2+1^2$ is a sum of two squares while $11$ is not."
   ]
  },
  {
   "cell_type": "markdown",
   "metadata": {},
   "source": [
    "<div markdown=1 class=\"DoIt\"> \n",
    "\n",
    "Write a function `SumsOfTwoSquares(n)` which returns the list of all decompositions of $n$ as a sum of two squares. For example:\n",
    "```python\n",
    "SumsOfTwoSquares(905)\n",
    "[[8, 29], [11, 28], [28, 11], [29, 8]]\n",
    "SumsOfTwoSquares(11)\n",
    "[]\n",
    "```"
   ]
  },
  {
   "cell_type": "code",
   "execution_count": null,
   "metadata": {},
   "outputs": [],
   "source": []
  },
  {
   "cell_type": "markdown",
   "metadata": {},
   "source": [
    "<div markdown=1 class=\"DoIt\"> Find the smallest integer $n$ which has strictly more than $7$ decompositions as a sum of two squares."
   ]
  },
  {
   "cell_type": "code",
   "execution_count": null,
   "metadata": {},
   "outputs": [],
   "source": []
  },
  {
   "cell_type": "markdown",
   "metadata": {},
   "source": [
    "<div markdown=1 class=\"DoIt\"> \n",
    "\n",
    "1. <b>(Theory)</b> Let $a$ be any integer. Prove that $a^2$ is always equal to $0$ or $1$ modulo $4$. \n",
    "2. <b>(Theory)</b> Deduce that $\\bigg(n\\equiv 3 \\ (\\mathrm{mod}\\ 4)\\bigg)$ $\\Rightarrow$ $\\bigg( n\\text{ is not a sum of two squares }\\bigg)$.<br>\n",
    "3. Is the converse true?"
   ]
  },
  {
   "cell_type": "markdown",
   "metadata": {},
   "source": [
    "<div markdown=1 class=\"Answers\">\n"
   ]
  },
  {
   "cell_type": "markdown",
   "metadata": {},
   "source": [
    "<a id=\"ChangeBasis\"></a>\n",
    "# 3. Bonus: A mysterious function"
   ]
  },
  {
   "cell_type": "markdown",
   "metadata": {},
   "source": [
    "<div markdown=1 class=\"DoIt\"> What does the following function return? Can you prove it?"
   ]
  },
  {
   "cell_type": "code",
   "execution_count": 6,
   "metadata": {},
   "outputs": [],
   "source": [
    "def Mystery(MysteriousVariable):\n",
    "    # input: ???\n",
    "    # output: ???\n",
    "    if MysteriousVariable==0:\n",
    "        return []\n",
    "    else:\n",
    "        return Mystery(MysteriousVariable//2) + [MysteriousVariable%2]\n",
    "    "
   ]
  },
  {
   "cell_type": "markdown",
   "metadata": {},
   "source": [
    "<div markdown=1 class=\"Answers\"> "
   ]
  },
  {
   "cell_type": "markdown",
   "metadata": {},
   "source": [
    "## Change of basis"
   ]
  },
  {
   "cell_type": "markdown",
   "metadata": {},
   "source": [
    "<div markdown=1 class=\"DoIt\"> Write a function `ChangeBasis(a,b,n_InBasis_a)` which takes as inputs:\n",
    "* Two basis $a,b$ (integers $\\geq 2$)\n",
    "* A list which gives the decomposition of some integer $n$ in basis $a$\n",
    "\n",
    "and which returns the decomposition of $n$ in basis $b$.\n",
    "\n",
    "For example\n",
    "```python\n",
    "ChangeBasis(5,2,[4,1])\n",
    "[1, 0, 1, 0, 1]\n",
    "```\n",
    "(Since $[4,1]$ in basis $5$ is $21$ <i>i.e.</i> $[1, 0, 1, 0, 1]$.)"
   ]
  },
  {
   "cell_type": "code",
   "execution_count": null,
   "metadata": {},
   "outputs": [],
   "source": []
  },
  {
   "cell_type": "code",
   "execution_count": null,
   "metadata": {},
   "outputs": [],
   "source": []
  },
  {
   "cell_type": "code",
   "execution_count": null,
   "metadata": {},
   "outputs": [],
   "source": []
  }
 ],
 "metadata": {
  "kernelspec": {
   "display_name": "Python 3 (ipykernel)",
   "language": "python",
   "name": "python3"
  },
  "language_info": {
   "codemirror_mode": {
    "name": "ipython",
    "version": 3
   },
   "file_extension": ".py",
   "mimetype": "text/x-python",
   "name": "python",
   "nbconvert_exporter": "python",
   "pygments_lexer": "ipython3",
   "version": "3.9.7"
  }
 },
 "nbformat": 4,
 "nbformat_minor": 4
}
