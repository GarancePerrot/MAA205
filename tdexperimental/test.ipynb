{
 "cells": [
  {
   "cell_type": "markdown",
   "metadata": {},
   "source": [
    "<img src='./figures/logo-ecole-polytechnique-ve.jpg' style='position:absolute; top:0; right:0;' width='100px' height='' alt='' />\n",
    "\n",
    "<center>**Bachelor of Ecole Polytechnique**</center>\n",
    "<center><i>Algorithms for Discrete Mathematics</i>, year 2, semester 1</center>\n",
    "\n",
    "# Experimental Maths 2: Test\n"
   ]
  },
  {
   "cell_type": "markdown",
   "metadata": {},
   "source": [
    "## Table of contents\n",
    "\n",
    "- [1. Dynamics](#Persistence)\n",
    "- [2. A strange recurrence](#Conway)\n",
    "- [3. L-Decompositions](#Ldecomposition)\n",
    "\n"
   ]
  },
  {
   "cell_type": "code",
   "execution_count": 1,
   "metadata": {},
   "outputs": [
    {
     "data": {
      "text/html": [
       "<link href='http://fonts.googleapis.com/css?family=Fenix' rel='stylesheet' type='text/css'>\n",
       "<link href='http://fonts.googleapis.com/css?family=Alegreya+Sans:100,300,400,500,700,800,900,100italic,300italic,400italic,500italic,700italic,800italic,900italic' rel='stylesheet' type='text/css'>\n",
       "<link href='http://fonts.googleapis.com/css?family=Source+Code+Pro:300,400' rel='stylesheet' type='text/css'>\n",
       "<link href=\"https://fonts.googleapis.com/css?family=Oswald|Raleway\" rel=\"stylesheet\" type='text/css'> \n",
       "<style>\n",
       ".prompt{\n",
       "    display: none !important;\n",
       "}\n",
       "\n",
       ".rendered_html pre {\n",
       "    border: 1px solid #f0f6f9 !important;\n",
       "}\n",
       "\n",
       ".rendered_html pre, .rendered_html code {\n",
       "    background-color: #d3d8db !important;\n",
       "    padding: 1% !important;\n",
       "    line-height: 200% !important;\n",
       "    border-radius: 10px !important;\n",
       "}\n",
       "\n",
       "div.input_area {\n",
       "    border-radius: 10px !important;\n",
       "    background-color: #e1e1e6 !important;\n",
       "}\n",
       "\n",
       "div.cell{\n",
       "        width:85% !important;\n",
       "        margin-left:5% !important;\n",
       "        /*margin-right:auto;*/\n",
       "    }\n",
       "    h1, h2, h3, h4, h5 {\n",
       "        font-family: 'Oswald', sans-serif; !important;\n",
       "        font-style: oblique !important;\n",
       "    }\n",
       "    div.text_cell_render{\n",
       "        font-family: 'Raleway', sans-serif; !important;\n",
       "        line-height: 135% !important;\n",
       "        font-size: 120% !important;\n",
       "        width:100%;/*600px;*/\n",
       "        /*margin-left:auto;*/\n",
       "        /*margin-right:auto;*/\n",
       "    }\n",
       "    .CodeMirror{\n",
       "            font-family: \"Source Code Pro\" !important;\n",
       "\t\t\tfont-size: 100% !important;\n",
       "    }\n",
       "    .text_cell_render p{\n",
       "        text-align: justify !important;\n",
       "    }\n",
       "    .text_cell_render h1 {\n",
       "        font-weight: 200 !important;\n",
       "\t\tline-height: 100% !important;\n",
       "        color:#47597A !important;\n",
       "        margin-bottom: 10.em !important;\n",
       "        margin-top: 50.em !important;\n",
       "        padding-bottom: 50.em !important;\n",
       "        padding-top: 50.em !important;\n",
       "        display: block !important;\n",
       "        font-size: 300% !important;\n",
       "        text-align: center !important;\n",
       "        border-bottom: 1px solid #47597A !important;\n",
       "        border-top: 1px solid #47597A !important;\n",
       "    }\n",
       "    .text_cell_render h2 {\n",
       "        font-weight: 200 !important;\n",
       "\tline-height: 100% !important;\n",
       "        color:#47597A !important;\n",
       "        margin-bottom: 0.5em !important;\n",
       "        margin-top: 0.5em !important;\n",
       "        display: block !important;\n",
       "        font-size: 200% !important;\n",
       "        border-bottom: 1px solid #47597A !important;\n",
       "    }\n",
       "    .text_cell_render h3 {\n",
       "        font-weight: 200 !important;\n",
       "\tline-height: 100% !important;\n",
       "        color:#47597A !important;\n",
       "        margin-bottom: 0.5em !important;\n",
       "        margin-top: 0.5em !important;\n",
       "        display: block !important;\n",
       "        font-size: 150% !important;\n",
       "    }\n",
       "    .text_cell_render h4 {\n",
       "        font-style: italic !important;\n",
       "        font-weight: bold !important;\n",
       "\tline-height: 100% !important;\n",
       "        color:#47597A !important;\n",
       "        display: block !important;\n",
       "        font-size: 100% !important;\n",
       "    }\n",
       "    .text_cell_render h5 {\n",
       "        font-weight: 200 !important;\n",
       "\tline-height: 100% !important;\n",
       "        color:#47597A !important;\n",
       "        margin-bottom: 0.5em !important;\n",
       "        margin-top: 0.5em !important;\n",
       "        display: block !important;\n",
       "        font-size: 100% !important;\n",
       "    }\n",
       "    .text_cell_render ul {\n",
       "\tlist-style-type: disc !important;\n",
       "\tline-height: 2;\n",
       "\t/*color:#47597A !important;*/\n",
       "    }\n",
       "    .warning{\n",
       "        color: rgb( 240, 20, 20 ) !important;\n",
       "        }\n",
       "    .Abstract {  \n",
       "\ttext-align: justify;\n",
       "\tbackground-color: #d6edf9;\n",
       "\tborder-left: 5px solid #47597A;\n",
       "\tpadding: 0.5em;\n",
       "\tmargin: 0  150px 0 150px;\n",
       "    }\n",
       "    .Def {    \n",
       "\tbackground-color: #d9f7d7;\n",
       "\tborder-left: 5px solid #4a7047;\n",
       "\tpadding: 0.5em;\n",
       "    }\n",
       "    .Def:before {\n",
       "\tcontent: \"Definition.\";\n",
       "\tcolor:#4a7047;\n",
       "\tfont-weight: bold;\n",
       "\tfont-style: normal;\n",
       "    }\n",
       "    .DoIt {    \n",
       "\tbackground-color: #e8cfc9;\n",
       "\tborder-left: 5px solid #a90e05;\n",
       "\tpadding: 0.5em;\n",
       "    }\n",
       "    .DoIt:before {\n",
       "\tcontent: \"Do it yourself.\";\n",
       "\tcolor:#a90e05;\n",
       "\tfont-weight: bold;\n",
       "\tfont-style: normal;\n",
       "    }\n",
       "    .Answers {    \n",
       "\tbackground-color: #DDA0DD;\n",
       "\tborder-left: 5px solid #9932CC;\n",
       "\tpadding: 0.5em;\n",
       "    }\n",
       "    .Answers:before {\n",
       "\tcontent: \"Answers.\";\n",
       "\tcolor:#682145;\n",
       "\tfont-weight: bold;\n",
       "\tfont-style: normal;\n",
       "    }\n",
       "    .Prop {    \n",
       "\tbackground-color:#f9ecd1;\n",
       "\tborder-left: 5px solid #ba7021;\n",
       "\tpadding: 0.5em;\n",
       "    }\n",
       "   .Prop:before {\n",
       "       content: \"Proposition.\";\n",
       "       color:#ba7021;\n",
       "       font-weight: bold;\n",
       "       font-style: normal;\n",
       "    }\n",
       "   .Thm {    \n",
       "\tbackground-color:#f9ecd1;\n",
       "\tborder-left: 5px solid #ba7021;\n",
       "\tpadding: 0.5em;\n",
       "    }\n",
       "   .Thm:before {\n",
       "       content: \"Theorem.\";\n",
       "       color:#ba7021;\n",
       "       font-weight: bold;\n",
       "       font-style: normal;\n",
       "    } \n",
       "   .Algo {    \n",
       "\tbackground-color:#f9ecd1;\n",
       "\tborder-left: 5px solid #ba7021;\n",
       "\tpadding: 0.5em;\n",
       "    }\n",
       "   .Algo:before {\n",
       "       content: \"Algorithm.\";\n",
       "       color:#ba7021;\n",
       "       font-weight: bold;\n",
       "       font-style: normal;\n",
       "    }\n",
       "    .Rmk {    \n",
       "\tbackground-color: #dbf1fc;\n",
       "\tborder-left: 5px solid #385487;\n",
       "\tpadding: 0.5em;\n",
       "    }\n",
       "    .Rmk:before {\n",
       "\tcontent: \"Remark.\";\n",
       "\tcolor:#385487;\n",
       "\tfont-weight: bold;\n",
       "\tfont-style: normal;\n",
       "    }\n",
       "    .Ex {    \n",
       "\tbackground-color: #dbf1fc;\n",
       "\tborder-left: 5px solid #385487;\n",
       "\tpadding: 0.5em;\n",
       "    }\n",
       "    .Ex:before {\n",
       "\tcontent: \"Example.\";\n",
       "\tcolor:#385487;\n",
       "\tfont-weight: bold;\n",
       "\tfont-style: normal;\n",
       "    }\n",
       "\n",
       "/*    .toc-item-num {\n",
       "#        display: none;\n",
       "#    }\n",
       "*/\n",
       "    .reveal section img{\n",
       "        margin: 0px auto;\n",
       "    }\n",
       "\n",
       "    div.output_area img{\n",
       "        display: block;\n",
       "        margin: 0px auto;\n",
       "    }\n",
       "  \n",
       "</style>\n",
       "\n",
       "<script>\n",
       "MathJax.Hub.Config({\n",
       "TeX: {extensions: [\"AMSmath.js\"] },\n",
       "                tex2jax: {\n",
       "                    inlineMath: [ ['$','$'], [\"\\\\(\",\"\\\\)\"] ],\n",
       "                    displayMath: [ ['$$','$$'], [\"\\\\[\",\"\\\\]\"] ]\n",
       "                },\n",
       "                displayAlign: 'center', // Change this to 'center' to center equations.\n",
       "                \"HTML-CSS\": {\n",
       "                    styles: {'.MathJax_Display': {\"margin\": 4}}\n",
       "                }\n",
       "        });\n",
       "\n",
       "\n",
       "\n",
       "</script>\n"
      ],
      "text/plain": [
       "<IPython.core.display.HTML object>"
      ]
     },
     "execution_count": 1,
     "metadata": {},
     "output_type": "execute_result"
    }
   ],
   "source": [
    "# execute this part to modify the css style\n",
    "from IPython.core.display import HTML\n",
    "def css_styling():\n",
    "    styles = open(\"./style/custom2.css\").read()\n",
    "    return HTML(styles)\n",
    "css_styling()\n"
   ]
  },
  {
   "cell_type": "code",
   "execution_count": 2,
   "metadata": {},
   "outputs": [],
   "source": [
    "## loading python libraries\n",
    "\n",
    "# necessary to display plots inline:\n",
    "%matplotlib inline   \n",
    "\n",
    "# load the libraries\n",
    "import matplotlib.pyplot as plt # 2D plotting library\n",
    "import numpy as np              # package for scientific computing  \n",
    "\n",
    "from math import *              # package for mathematics (pi, arctan, sqrt, factorial ...)\n"
   ]
  },
  {
   "cell_type": "markdown",
   "metadata": {},
   "source": [
    "<a id=\"Persistence\"></a>\n",
    "# 1. Dynamics\n"
   ]
  },
  {
   "cell_type": "markdown",
   "metadata": {},
   "source": [
    "<div markdown=1 class=\"DoIt\"> \n",
    "\n",
    "Write a function `ProductOfDigits(n)`which returns the product of digits of $n$. For example, `ProductOfDigits(2281)=32`, since $2\\times 2\\times 8\\times 1 =32$.<br>\n",
    "<i>(Hint: Recall that in python 3 the euclidean division is obtained with //.)</i>\n"
   ]
  },
  {
   "cell_type": "code",
   "execution_count": 14,
   "metadata": {},
   "outputs": [
    {
     "data": {
      "text/plain": [
       "32"
      ]
     },
     "execution_count": 14,
     "metadata": {},
     "output_type": "execute_result"
    }
   ],
   "source": [
    "def ProductOfDigits(n):\n",
    "    res =[]\n",
    "    while n>=10:\n",
    "        res.append(n%10)\n",
    "        n = n//10\n",
    "    res2=1\n",
    "    for r in res:\n",
    "        res2=res2*r\n",
    "    res2=res2*n\n",
    "    return res2\n",
    "\n",
    "ProductOfDigits(2281)"
   ]
  },
  {
   "cell_type": "markdown",
   "metadata": {},
   "source": [
    "For an integer $n$, we consider the following procedure. Multiply all the digits of $n$ by each other, repeating with the product until a single digit is obtained. Let us denote by $\\mathrm{M}(n)$ the number of steps required to get one single digit number, starting from $n$.  (If $n<10$ we set $\\mathrm{M}(n)=0$.)\n",
    "\n",
    "For example, for $n=2281$:\n",
    "$$\n",
    "2281  \\stackrel{\\text{1st step}}{\\longrightarrow} 2\\times 2\\times 8\\times 1= 32 \\stackrel{\\text{2d step}}{\\longrightarrow} 3\\times 2 =6. \n",
    "$$\n",
    "<br>\n",
    "Therefore $\\mathrm{M}(2281)=2$."
   ]
  },
  {
   "cell_type": "markdown",
   "metadata": {},
   "source": [
    "<div markdown=1 class=\"DoIt\"> Write a program which computes $\\mathrm{M}(n)$."
   ]
  },
  {
   "cell_type": "code",
   "execution_count": 16,
   "metadata": {},
   "outputs": [
    {
     "data": {
      "text/plain": [
       "2"
      ]
     },
     "execution_count": 16,
     "metadata": {},
     "output_type": "execute_result"
    }
   ],
   "source": [
    "def M(n):\n",
    "    c = 0\n",
    "    while n >=10 :\n",
    "        n = ProductOfDigits(n)\n",
    "        c+=1\n",
    "    return c\n",
    "\n",
    "M(2281)"
   ]
  },
  {
   "cell_type": "markdown",
   "metadata": {},
   "source": [
    "<div markdown=1 class=\"DoIt\"> Find the smallest integer $K$ such that $\\mathrm{M}(K)\\geq 7$."
   ]
  },
  {
   "cell_type": "code",
   "execution_count": 12,
   "metadata": {},
   "outputs": [
    {
     "data": {
      "text/plain": [
       "68889"
      ]
     },
     "execution_count": 12,
     "metadata": {},
     "output_type": "execute_result"
    }
   ],
   "source": [
    "def smallest_int():\n",
    "    i = 0\n",
    "    while True:\n",
    "        if M(i)>=7:\n",
    "            return i\n",
    "        i+=1\n",
    "        \n",
    "smallest_int()"
   ]
  },
  {
   "cell_type": "markdown",
   "metadata": {},
   "source": [
    "<div markdown=1 class=\"DoIt\">\n",
    "\n",
    "1. Let $\\Pi(n)$ denote the product of digits of $n$. Prove that $\\Pi(n)<n$ for every $n\\geq 10$.\n",
    "2. Deduce that $\\mathrm{M}(n)<+\\infty$ for every $n$.\n",
    "3. **(Bonus)** Find a constant $c>0$ such that for every $n$ one has $\\mathrm{M}(n)\\leq c\\log(n)$."
   ]
  },
  {
   "cell_type": "markdown",
   "metadata": {},
   "source": [
    "<div markdown=1 class=\"Answers\"> \n",
    "\n",
    "1. We argue by induction. We want to show that $\\Pi(n+1)<n+1$ for every $n\\geq 10$. \n",
    "Since n is more than or equal to 10, it has at least two digits. Let us consider the unit digit of $\\Pi(n)$:\n",
    "- if it is 9, then the unit digit of n+1 will be 0 so $\\Pi(n+1)=0<n+1$.\n",
    "- otherwise the unit number of n+1 will be increased by 1 so $\\Pi(n+1)=\\Pi(n)+1<n+1$ by hypothesis, \n",
    "which concludes the proof.\n",
    "2. M(n) returns the number of terms in the sequence defined as : $A(0) = n$ , $A(n+1) = \\Pi(A(n))$ for all n. The sequence stops when A(n) is less than 10. \n",
    "By question 1, the sequence is strictly decreasing and it is bounded from below by 0 so it converges to some integer less than 10 (otherwse the iteration continues) therefore M(n) is finite.\n",
    "3. "
   ]
  },
  {
   "cell_type": "code",
   "execution_count": null,
   "metadata": {},
   "outputs": [],
   "source": []
  },
  {
   "cell_type": "code",
   "execution_count": null,
   "metadata": {},
   "outputs": [],
   "source": []
  },
  {
   "cell_type": "markdown",
   "metadata": {},
   "source": [
    "<a id=\"Conway\"></a>\n",
    "# 2. A strange recurrence"
   ]
  },
  {
   "cell_type": "markdown",
   "metadata": {},
   "source": [
    "Consider the following sequence :\n",
    "\n",
    "$$\n",
    "    1, 11, 21, 1211, 111221, 312211, 13112221, 1113213211, ...\n",
    "$$\n",
    "\n",
    "To generate a member of the sequence from the previous member, read off the digits of the previous member, counting the number of digits in groups of the same digit. For example:\n",
    "\n",
    "    1 is read off as \"one 1\" or 11.\n",
    "    11 is read off as \"two 1s\" or 21.\n",
    "    21 is read off as \"one 2, one 1\" or 1211.\n",
    "    1211 is read off as \"one 1, one 2,  two 1s\" or 111221.\n",
    "    111221 is read off as \"three 1s, two 2s, one 1\" or 312211.\n"
   ]
  },
  {
   "cell_type": "markdown",
   "metadata": {},
   "source": [
    "Such a sequence is completely determined by the first term. Let $C(n)$ be the image of an integer $n$ by the \"read off digits\" procedure. For example,\n",
    "\\begin{align*}\n",
    "C(1)&=11,\\\\\n",
    "C(22)&=22,\\\\\n",
    "C(12)&=1112,\\\\\n",
    "C(312211)&= 13112221\\\\\n",
    "& ...\n",
    "\\end{align*}\n",
    "For an integer parameter $a$ the sequence $(L_n)_{n\\geq 0}$ is then given by\n",
    "$$\n",
    "\\begin{cases}\n",
    "&L_0=a,\\\\\n",
    "&L_{n+1}= C(L_n)\\qquad \\text{(for every $n\\geq 0$)}\n",
    "\\end{cases}\n",
    "$$\n",
    "for some positive integer $a$ called <i>seed</i>."
   ]
  },
  {
   "cell_type": "markdown",
   "metadata": {},
   "source": [
    "<div markdown=1 class=\"DoIt\"> \n",
    "\n",
    "1. Write a function which computes `C(n)`. You can assume that $n$ is given by the list of its digits. Example for $1322211$:\n",
    "```python\n",
    "print(C([1,3,2,2,2,1,1]))\n",
    "[1, 1, 1, 3, 3, 2, 2, 1]\n",
    "```\n",
    "<i>(Hint: Think recursive!)</i>"
   ]
  },
  {
   "cell_type": "code",
   "execution_count": 56,
   "metadata": {},
   "outputs": [
    {
     "name": "stdout",
     "output_type": "stream",
     "text": [
      "[1, 1, 1, 3, 1, 2, 1, 2, 2, 2, 1, 1, 1, 1]\n",
      "11112221213111\n"
     ]
    }
   ],
   "source": [
    "\n",
    "def C(List):\n",
    "    # returns one interation of C applied to a list of digits\n",
    "    n = len(List)\n",
    "    if n == 0:\n",
    "        return []\n",
    "    if n==1:\n",
    "        return [1,List[0]]\n",
    "    i = 1\n",
    "    c = 1\n",
    "    while i<=n-2 and List[i]==List[i+1] :\n",
    "        c+=1\n",
    "        i+=1\n",
    "    return C(List[0:i]) + [c , List[i]] + C(List[i+1 :n])\n",
    "    \n",
    "    \n",
    "def Cint(List):\n",
    "    res = 0\n",
    "    i = 0\n",
    "    for x in C(List):\n",
    "        res += x*(10**i)\n",
    "        i+=1\n",
    "    return res\n",
    "\n",
    "\n",
    " \n",
    "# Test: Initial list = 1,3,2,2,2,1,1\n",
    "#       Should return [1, 1, 1, 3, 3, 2, 2, 1]\n",
    "\n",
    "print(C([1,3,2,2,2,1,1]))\n",
    "print(Cint([1,3,2,2,2,1,1]))\n",
    "\n",
    "\n",
    "#I know my function C(n) is wrong..."
   ]
  },
  {
   "cell_type": "markdown",
   "metadata": {},
   "source": [
    "As $C(22)=22$ we have that the sequence $(L_n)$ is identically equal to $22$ if the seed is $22$.\n",
    "\n",
    "It can be proved that for every seed $a$ different from $22$ we have that\n",
    "$$\n",
    "\\text{Number of digits of }L_n \\sim C_a \\lambda^n,\n",
    "$$\n",
    "for some $C_a>0$ which depends on $a$, and $\\lambda>1$ which does not depend on $a$. In particular, this shows that $L_n$ grow very fast."
   ]
  },
  {
   "cell_type": "markdown",
   "metadata": {},
   "source": [
    "<div markdown=1 class=\"DoIt\"> \n",
    "\n",
    "1. Use your function $C(n)$ to plot some sequences $(L_n)$.\n",
    "2. Use your function $C(n)$ to give a numerical approximation of the constant $\\lambda$.\n",
    "\n",
    "<i>(Hint: If needed you can use the fact that the number of digits of some integer $A$ is equal to $\\lfloor \\log_{10}(A)\\rfloor +1$.)</i>"
   ]
  },
  {
   "cell_type": "code",
   "execution_count": 61,
   "metadata": {},
   "outputs": [
    {
     "ename": "TypeError",
     "evalue": "object of type 'int' has no len()",
     "output_type": "error",
     "traceback": [
      "\u001b[0;31m---------------------------------------------------------------------------\u001b[0m",
      "\u001b[0;31mTypeError\u001b[0m                                 Traceback (most recent call last)",
      "\u001b[0;32m/tmp/ipykernel_22386/3125889749.py\u001b[0m in \u001b[0;36m<module>\u001b[0;34m\u001b[0m\n\u001b[1;32m     13\u001b[0m \u001b[0mn_min\u001b[0m\u001b[0;34m=\u001b[0m\u001b[0;36m0\u001b[0m\u001b[0;34m\u001b[0m\u001b[0;34m\u001b[0m\u001b[0m\n\u001b[1;32m     14\u001b[0m \u001b[0mn_max\u001b[0m\u001b[0;34m=\u001b[0m\u001b[0;36m200\u001b[0m\u001b[0;34m\u001b[0m\u001b[0;34m\u001b[0m\u001b[0m\n\u001b[0;32m---> 15\u001b[0;31m \u001b[0mLn\u001b[0m\u001b[0;34m=\u001b[0m\u001b[0;34m[\u001b[0m\u001b[0mComputeLn\u001b[0m\u001b[0;34m(\u001b[0m\u001b[0mk\u001b[0m\u001b[0;34m)\u001b[0m \u001b[0;32mfor\u001b[0m \u001b[0mk\u001b[0m \u001b[0;32min\u001b[0m \u001b[0mrange\u001b[0m\u001b[0;34m(\u001b[0m\u001b[0mn_min\u001b[0m\u001b[0;34m,\u001b[0m\u001b[0mn_max\u001b[0m\u001b[0;34m)\u001b[0m\u001b[0;34m]\u001b[0m\u001b[0;34m\u001b[0m\u001b[0;34m\u001b[0m\u001b[0m\n\u001b[0m\u001b[1;32m     16\u001b[0m \u001b[0mX\u001b[0m\u001b[0;34m=\u001b[0m\u001b[0mrange\u001b[0m\u001b[0;34m(\u001b[0m\u001b[0mn_min\u001b[0m\u001b[0;34m,\u001b[0m\u001b[0mn_max\u001b[0m\u001b[0;34m)\u001b[0m\u001b[0;34m\u001b[0m\u001b[0;34m\u001b[0m\u001b[0m\n\u001b[1;32m     17\u001b[0m \u001b[0mplt\u001b[0m\u001b[0;34m.\u001b[0m\u001b[0mplot\u001b[0m\u001b[0;34m(\u001b[0m\u001b[0mX\u001b[0m\u001b[0;34m,\u001b[0m\u001b[0mLn\u001b[0m\u001b[0;34m,\u001b[0m\u001b[0;34m'o'\u001b[0m\u001b[0;34m,\u001b[0m\u001b[0mlabel\u001b[0m\u001b[0;34m=\u001b[0m\u001b[0;34m'F(n)'\u001b[0m\u001b[0;34m)\u001b[0m\u001b[0;34m\u001b[0m\u001b[0;34m\u001b[0m\u001b[0m\n",
      "\u001b[0;32m/tmp/ipykernel_22386/3125889749.py\u001b[0m in \u001b[0;36m<listcomp>\u001b[0;34m(.0)\u001b[0m\n\u001b[1;32m     13\u001b[0m \u001b[0mn_min\u001b[0m\u001b[0;34m=\u001b[0m\u001b[0;36m0\u001b[0m\u001b[0;34m\u001b[0m\u001b[0;34m\u001b[0m\u001b[0m\n\u001b[1;32m     14\u001b[0m \u001b[0mn_max\u001b[0m\u001b[0;34m=\u001b[0m\u001b[0;36m200\u001b[0m\u001b[0;34m\u001b[0m\u001b[0;34m\u001b[0m\u001b[0m\n\u001b[0;32m---> 15\u001b[0;31m \u001b[0mLn\u001b[0m\u001b[0;34m=\u001b[0m\u001b[0;34m[\u001b[0m\u001b[0mComputeLn\u001b[0m\u001b[0;34m(\u001b[0m\u001b[0mk\u001b[0m\u001b[0;34m)\u001b[0m \u001b[0;32mfor\u001b[0m \u001b[0mk\u001b[0m \u001b[0;32min\u001b[0m \u001b[0mrange\u001b[0m\u001b[0;34m(\u001b[0m\u001b[0mn_min\u001b[0m\u001b[0;34m,\u001b[0m\u001b[0mn_max\u001b[0m\u001b[0;34m)\u001b[0m\u001b[0;34m]\u001b[0m\u001b[0;34m\u001b[0m\u001b[0;34m\u001b[0m\u001b[0m\n\u001b[0m\u001b[1;32m     16\u001b[0m \u001b[0mX\u001b[0m\u001b[0;34m=\u001b[0m\u001b[0mrange\u001b[0m\u001b[0;34m(\u001b[0m\u001b[0mn_min\u001b[0m\u001b[0;34m,\u001b[0m\u001b[0mn_max\u001b[0m\u001b[0;34m)\u001b[0m\u001b[0;34m\u001b[0m\u001b[0;34m\u001b[0m\u001b[0m\n\u001b[1;32m     17\u001b[0m \u001b[0mplt\u001b[0m\u001b[0;34m.\u001b[0m\u001b[0mplot\u001b[0m\u001b[0;34m(\u001b[0m\u001b[0mX\u001b[0m\u001b[0;34m,\u001b[0m\u001b[0mLn\u001b[0m\u001b[0;34m,\u001b[0m\u001b[0;34m'o'\u001b[0m\u001b[0;34m,\u001b[0m\u001b[0mlabel\u001b[0m\u001b[0;34m=\u001b[0m\u001b[0;34m'F(n)'\u001b[0m\u001b[0;34m)\u001b[0m\u001b[0;34m\u001b[0m\u001b[0;34m\u001b[0m\u001b[0m\n",
      "\u001b[0;32m/tmp/ipykernel_22386/3125889749.py\u001b[0m in \u001b[0;36mComputeLn\u001b[0;34m(n)\u001b[0m\n\u001b[1;32m      8\u001b[0m     \u001b[0mseq\u001b[0m \u001b[0;34m=\u001b[0m \u001b[0;34m[\u001b[0m\u001b[0mcurrent_value\u001b[0m\u001b[0;34m]\u001b[0m\u001b[0;34m\u001b[0m\u001b[0;34m\u001b[0m\u001b[0m\n\u001b[1;32m      9\u001b[0m     \u001b[0;32mfor\u001b[0m \u001b[0m_\u001b[0m \u001b[0;32min\u001b[0m \u001b[0mrange\u001b[0m\u001b[0;34m(\u001b[0m\u001b[0mn\u001b[0m\u001b[0;34m)\u001b[0m\u001b[0;34m:\u001b[0m\u001b[0;34m\u001b[0m\u001b[0;34m\u001b[0m\u001b[0m\n\u001b[0;32m---> 10\u001b[0;31m         \u001b[0mcurrent_value\u001b[0m \u001b[0;34m=\u001b[0m \u001b[0mCint\u001b[0m\u001b[0;34m(\u001b[0m\u001b[0mcurrent_value\u001b[0m\u001b[0;34m)\u001b[0m\u001b[0;34m\u001b[0m\u001b[0;34m\u001b[0m\u001b[0m\n\u001b[0m\u001b[1;32m     11\u001b[0m     \u001b[0;32mreturn\u001b[0m \u001b[0mcurrent_value\u001b[0m\u001b[0;34m\u001b[0m\u001b[0;34m\u001b[0m\u001b[0m\n\u001b[1;32m     12\u001b[0m \u001b[0;34m\u001b[0m\u001b[0m\n",
      "\u001b[0;32m/tmp/ipykernel_22386/1306154521.py\u001b[0m in \u001b[0;36mCint\u001b[0;34m(List)\u001b[0m\n\u001b[1;32m     17\u001b[0m     \u001b[0mres\u001b[0m \u001b[0;34m=\u001b[0m \u001b[0;36m0\u001b[0m\u001b[0;34m\u001b[0m\u001b[0;34m\u001b[0m\u001b[0m\n\u001b[1;32m     18\u001b[0m     \u001b[0mi\u001b[0m \u001b[0;34m=\u001b[0m \u001b[0;36m0\u001b[0m\u001b[0;34m\u001b[0m\u001b[0;34m\u001b[0m\u001b[0m\n\u001b[0;32m---> 19\u001b[0;31m     \u001b[0;32mfor\u001b[0m \u001b[0mx\u001b[0m \u001b[0;32min\u001b[0m \u001b[0mC\u001b[0m\u001b[0;34m(\u001b[0m\u001b[0mList\u001b[0m\u001b[0;34m)\u001b[0m\u001b[0;34m:\u001b[0m\u001b[0;34m\u001b[0m\u001b[0;34m\u001b[0m\u001b[0m\n\u001b[0m\u001b[1;32m     20\u001b[0m         \u001b[0mres\u001b[0m \u001b[0;34m+=\u001b[0m \u001b[0mx\u001b[0m\u001b[0;34m*\u001b[0m\u001b[0;34m(\u001b[0m\u001b[0;36m10\u001b[0m\u001b[0;34m**\u001b[0m\u001b[0mi\u001b[0m\u001b[0;34m)\u001b[0m\u001b[0;34m\u001b[0m\u001b[0;34m\u001b[0m\u001b[0m\n\u001b[1;32m     21\u001b[0m         \u001b[0mi\u001b[0m\u001b[0;34m+=\u001b[0m\u001b[0;36m1\u001b[0m\u001b[0;34m\u001b[0m\u001b[0;34m\u001b[0m\u001b[0m\n",
      "\u001b[0;32m/tmp/ipykernel_22386/1306154521.py\u001b[0m in \u001b[0;36mC\u001b[0;34m(List)\u001b[0m\n\u001b[1;32m      1\u001b[0m \u001b[0;32mdef\u001b[0m \u001b[0mC\u001b[0m\u001b[0;34m(\u001b[0m\u001b[0mList\u001b[0m\u001b[0;34m)\u001b[0m\u001b[0;34m:\u001b[0m\u001b[0;34m\u001b[0m\u001b[0;34m\u001b[0m\u001b[0m\n\u001b[1;32m      2\u001b[0m     \u001b[0;31m# returns one interation of C applied to a list of digits\u001b[0m\u001b[0;34m\u001b[0m\u001b[0;34m\u001b[0m\u001b[0m\n\u001b[0;32m----> 3\u001b[0;31m     \u001b[0mn\u001b[0m \u001b[0;34m=\u001b[0m \u001b[0mlen\u001b[0m\u001b[0;34m(\u001b[0m\u001b[0mList\u001b[0m\u001b[0;34m)\u001b[0m\u001b[0;34m\u001b[0m\u001b[0;34m\u001b[0m\u001b[0m\n\u001b[0m\u001b[1;32m      4\u001b[0m     \u001b[0;32mif\u001b[0m \u001b[0mn\u001b[0m \u001b[0;34m==\u001b[0m \u001b[0;36m0\u001b[0m\u001b[0;34m:\u001b[0m\u001b[0;34m\u001b[0m\u001b[0;34m\u001b[0m\u001b[0m\n\u001b[1;32m      5\u001b[0m         \u001b[0;32mreturn\u001b[0m \u001b[0;34m[\u001b[0m\u001b[0;34m]\u001b[0m\u001b[0;34m\u001b[0m\u001b[0;34m\u001b[0m\u001b[0m\n",
      "\u001b[0;31mTypeError\u001b[0m: object of type 'int' has no len()"
     ]
    }
   ],
   "source": [
    "# For your purposes:\n",
    "def NbDigits(n):\n",
    "    # returns the number of digits of n (in basis 10)\n",
    "    return np.floor(np.log(n)/np.log(10))+1\n",
    "\n",
    "def ComputeLn(n):\n",
    "    current_value = 22\n",
    "    seq = [current_value]\n",
    "    for _ in range(n):\n",
    "        current_value = Cint(current_value)\n",
    "    return current_value\n",
    "\n",
    "n_min=0\n",
    "n_max=200\n",
    "Ln=[ComputeLn(k) for k in range(n_min,n_max)]\n",
    "X=range(n_min,n_max)\n",
    "plt.plot(X,Ln,'o',label='F(n)')\n",
    "plt.title('Ln')\n",
    "\n",
    "plt.show()"
   ]
  },
  {
   "cell_type": "code",
   "execution_count": null,
   "metadata": {},
   "outputs": [],
   "source": []
  },
  {
   "cell_type": "markdown",
   "metadata": {},
   "source": [
    "<div markdown=1 class=\"Answers\"> "
   ]
  },
  {
   "cell_type": "markdown",
   "metadata": {},
   "source": [
    "<a id=\"Ldecomposition\"></a>\n",
    "# 3. $L$-decompositions\n",
    "\n",
    "This problem is defined as follows. Let $L=[a_1,a_2,\\dots,a_k]$ be a list of distinct positive integers. \n",
    "\n",
    "For a fixed integer $n\\geq 1$ we want to find the number of solutions  $(x_1,\\dots,x_k)$ to the equation<br><br>\n",
    "$$\n",
    "a_1 x_1 +a_2 x_2 + \\dots a_k x_k=n, \\qquad\\qquad (\\star)\n",
    "$$\n",
    "<br>\n",
    "where $x_i$'s are non-negative integers.\n",
    "We denote by $H_n(L)$ be the number of such solutions. For example if $L=[1,2,5]$ then $H_6([1,2,5])=5$, since\n",
    "\n",
    "\\begin{align*}\n",
    "6&=5+1 \\\\\n",
    "&=2+2+2\\\\\n",
    "&=2+ 2+1+1\\\\\n",
    "&=2+1+1+1+1\\\\\n",
    "&=1+1+1+1+1+1 \n",
    "\\end{align*}\n",
    "\n",
    "In other words, the solutions to $(\\star)$ are:\n",
    "$$\n",
    "(x_1,x_2,x_3)=(1,0,1),\\quad (0,3,0),\\quad (2,2,0),\\quad (4,1,0),\\quad (6,0,0) \n",
    "$$\n",
    "\n",
    "The typical questions we will ask are:\n",
    "\n",
    "* How to compute $H_n(L)$ ?\n",
    "* How does $H_n(L)$ grow when $n\\to +\\infty$? (Can we find a simple equivalent?)\n",
    "\n",
    "We focus on the case $L=[1,2,5]$."
   ]
  },
  {
   "cell_type": "markdown",
   "metadata": {},
   "source": [
    "## The particular case $L=[1,2,5]$\n",
    "\n"
   ]
  },
  {
   "cell_type": "markdown",
   "metadata": {},
   "source": [
    "<div markdown=1 class=\"DoIt\"> \n",
    "\n",
    "1. Justify that for every $n\\geq 3$:<br><br>\n",
    "$$\n",
    "H_n([1,2])=1+ H_{n-2}([1,2]).\n",
    "$$\n",
    "<br>\n",
    "2. Prove a similar recurrence formula for $H_n([1,2,5])$: write  $H_n([1,2,5])$ as a function of $H_1([1,2]),\\dots,H_n([1,2])$ and  $H_1([1,2,5]),\\dots,H_{n-1}([1,2,5])$ (justify your formula).\n",
    "3. Deduce from these recurrence formulas:\n",
    " - A function `H_125(n)` which computes $H_n([1,2,5])$.<i>(To check your result: $H_{30}([1,2,5])=58$.)</i>\n",
    " - A plot of $n\\mapsto H_n([1,2,5])$. <br>\n",
    "\n",
    "\n",
    "4. Can you guess the order of growth of $H_n([1,2,5])$ when $n$ grows? (Is it logarithmic? polynomial? exponential? Can you guess an asymptotic equivalent?)\n",
    " \n"
   ]
  },
  {
   "cell_type": "markdown",
   "metadata": {},
   "source": [
    "<div markdown=1 class=\"Answers\"> \n",
    "\n",
    "1. We have that $H_n([1,2])$ is the number of pairs (a1,a2) such that $$\n",
    "a1 * 1 + a2 * 2 = n\n",
    "$$\n",
    "Since $n\\geq 3$ a1 and a2 cannot be 0.\n",
    "We can deduce $H_(n+2)([1,2])$ , it is the number of pairs (a1, a2+1 ) such that $$\n",
    "a1 * 1 + (a2+1) * 2 = n +2\n",
    "$$\n",
    "So the number of pairs (a1, a2+1 ) is the number of pairs (a1,a2) plus another pair where we increase a2 by 1. Therefore for every $n\\geq 3$:<br><br> $$\n",
    "H_n([1,2])=1+ H_{n-2}([1,2]).\n",
    "$$\n",
    "2. "
   ]
  },
  {
   "cell_type": "code",
   "execution_count": null,
   "metadata": {},
   "outputs": [],
   "source": [
    "\n"
   ]
  },
  {
   "cell_type": "code",
   "execution_count": null,
   "metadata": {},
   "outputs": [],
   "source": []
  },
  {
   "cell_type": "code",
   "execution_count": null,
   "metadata": {},
   "outputs": [],
   "source": []
  },
  {
   "cell_type": "code",
   "execution_count": null,
   "metadata": {},
   "outputs": [],
   "source": []
  }
 ],
 "metadata": {
  "kernelspec": {
   "display_name": "Python 3 (ipykernel)",
   "language": "python",
   "name": "python3"
  },
  "language_info": {
   "codemirror_mode": {
    "name": "ipython",
    "version": 3
   },
   "file_extension": ".py",
   "mimetype": "text/x-python",
   "name": "python",
   "nbconvert_exporter": "python",
   "pygments_lexer": "ipython3",
   "version": "3.9.7"
  }
 },
 "nbformat": 4,
 "nbformat_minor": 4
}
